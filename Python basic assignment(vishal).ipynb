{
 "cells": [
  {
   "cell_type": "markdown",
   "metadata": {},
   "source": [
    "# Python Basics Assignment\n",
    "## Theoretical Questions"
   ]
  },
  {
   "cell_type": "markdown",
   "metadata": {},
   "source": [
    "## Q1: What is Python, and why is it popular?\n",
    "Python is a **high-level, interpreted, and object-oriented programming language** created by Guido van Rossum in 1991.\n",
    "\n",
    "### Reasons for its popularity:\n",
    "1. **Easy to Learn & Read** – Syntax is similar to English.\n",
    "2. **Cross-Platform** – Works on Windows, macOS, Linux.\n",
    "3. **Versatile** – Used in web development, data science, AI, automation, scripting.\n",
    "4. **Rich Libraries** – Built-in modules plus huge external library support like NumPy, Pandas, Django.\n",
    "5. **Strong Community** – Millions of developers worldwide contributing to open-source projects."
   ]
  },
  {
   "cell_type": "markdown",
   "metadata": {},
   "source": [
    "## Q2: What is an interpreter in Python?\n",
    "An **interpreter** is a program that executes Python code **line by line**.\n",
    "\n",
    "### How it works:\n",
    "1. **Lexical Analysis** – Converts source code into tokens.\n",
    "2. **Parsing** – Generates an Abstract Syntax Tree (AST).\n",
    "3. **Compilation** – Converts AST to bytecode.\n",
    "4. **Execution** – Python Virtual Machine (PVM) runs the bytecode.\n",
    "\n",
    "Because it runs line-by-line, Python programs are easier to debug."
   ]
  },
  {
   "cell_type": "markdown",
   "metadata": {},
   "source": [
    "## Q3: What are pre-defined keywords in Python?\n",
    "Keywords are **reserved words** in Python that have special meanings.\n",
    "They define the syntax and structure of the language.\n",
    "Example: `if`, `while`, `def`, `class`.\n",
    "\n",
    "We cannot use these words as variable names."
   ]
  },
  {
   "cell_type": "markdown",
   "metadata": {},
   "source": [
    "## Q4: Can keywords be used as variable names?\n",
    "No, keywords **cannot** be used as variable names.\n",
    "They are reserved for Python syntax, and using them will cause a SyntaxError."
   ]
  },
  {
   "cell_type": "markdown",
   "metadata": {},
   "source": [
    "## Q5: What is mutability in Python?\n",
    "Mutability defines whether a data object can be changed after creation.\n",
    "- **Mutable**: Can be modified (lists, dictionaries, sets)\n",
    "- **Immutable**: Cannot be modified (tuples, strings, integers)"
   ]
  },
  {
   "cell_type": "code",
   "execution_count": null,
   "id": "70c86a83",
   "metadata": {},
   "outputs": [],
   "source": []
  },
  {
   "cell_type": "markdown",
   "metadata": {},
   "source": [
    "## Q6: Why are lists mutable but tuples are immutable?\n",
    "- **Lists**: Created for data that changes frequently, allow insert, delete, update.\n",
    "- **Tuples**: Designed for fixed data, faster access, and safety from accidental changes."
   ]
  },
  {
   "cell_type": "markdown",
   "metadata": {},
   "source": [
    "## Q7:  What is the difference between “==” and “is” operators in Python?\n",
    "- `==` checks if two objects have the **same value**.\n",
    "- `is` checks if two variables point to the **same memory location**."
   ]
  },
  {
   "cell_type": "markdown",
   "metadata": {},
   "source": [
    "## Q8: What are logical operators in Python?\n",
    "1. `and` – True if both conditions are True.\n",
    "2. `or` – True if at least one condition is True.\n",
    "3. `not` – Reverses a boolean value."
   ]
  },
  {
   "cell_type": "markdown",
   "metadata": {},
   "source": [
    "## Q9: What is type casting in Python?\n",
    "Type casting means converting one data type to another.\n",
    "- **Implicit**: Done automatically by Python.\n",
    "- **Explicit**: Done manually using type functions (`int()`, `float()`, `str()`)."
   ]
  },
  {
   "cell_type": "markdown",
   "metadata": {},
   "source": [
    "## Q10: What is the difference between implicit and explicit type casting?\n",
    "- **Implicit**: Performed automatically (safe, no data loss).\n",
    "- **Explicit**: Performed manually (possible data loss)."
   ]
  },
  {
   "cell_type": "markdown",
   "metadata": {},
   "source": [
    "## Q11:  What is the purpose of conditional statements in Python?\n",
    "Conditional statements allow a program to make **decisions** by executing code only if a condition is met."
   ]
  },
  {
   "cell_type": "markdown",
   "metadata": {},
   "source": [
    "## Q12: How does the elif statement work?\n",
    "`elif` lets us test multiple conditions one after another, executing only the first true block."
   ]
  },
  {
   "cell_type": "markdown",
   "metadata": {},
   "source": [
    "## Q13:  What is the difference between for and while loops?\n",
    "- **for**: Runs a known number of times.\n",
    "- **while**: Runs until a condition becomes false (may be infinite if not handled)."
   ]
  },
  {
   "cell_type": "markdown",
   "metadata": {},
   "source": [
    "## Q14: Describe a scenario where a while loop is more suitable than a for loop.\n",
    "A while loop is more suitable than a for loop when you don’t know in advance how many iterations the loop will need to run, and the loop should continue until a certain condition becomes false."
   ]
  },
  {
   "cell_type": "markdown",
   "id": "cdd7b526",
   "metadata": {},
   "source": [
    "## Practical Questions "
   ]
  },
  {
   "cell_type": "code",
   "execution_count": null,
   "metadata": {},
   "outputs": [],
   "source": [
    "# 1. Hello, World!\n",
    "print(\"Hello, World!\")"
   ]
  },
  {
   "cell_type": "code",
   "execution_count": 11,
   "metadata": {},
   "outputs": [
    {
     "name": "stdout",
     "output_type": "stream",
     "text": [
      "My name is Vishal and I am 30 years old.\n"
     ]
    }
   ],
   "source": [
    "# 2. Display name and age\n",
    "name = \"Vishal\"\n",
    "age = 30\n",
    "print(f\"My name is {name} and I am {age} years old.\")"
   ]
  },
  {
   "cell_type": "code",
   "execution_count": 1,
   "metadata": {},
   "outputs": [
    {
     "name": "stdout",
     "output_type": "stream",
     "text": [
      "['False', 'None', 'True', 'and', 'as', 'assert', 'async', 'await', 'break', 'class', 'continue', 'def', 'del', 'elif', 'else', 'except', 'finally', 'for', 'from', 'global', 'if', 'import', 'in', 'is', 'lambda', 'nonlocal', 'not', 'or', 'pass', 'raise', 'return', 'try', 'while', 'with', 'yield']\n"
     ]
    }
   ],
   "source": [
    "# 3. Print all Python keywords\n",
    "import keyword\n",
    "print(keyword.kwlist)"
   ]
  },
  {
   "cell_type": "code",
   "execution_count": 6,
   "metadata": {},
   "outputs": [
    {
     "name": "stdout",
     "output_type": "stream",
     "text": [
      "It is a Python keyword.\n"
     ]
    }
   ],
   "source": [
    "# 4. Check if a word is a keyword\n",
    "import keyword\n",
    "word = input(\"Enter a word: \")\n",
    "if keyword.iskeyword(word):\n",
    "    print(\"It is a Python keyword.\")\n",
    "else:\n",
    "    print(\"It is not a Python keyword.\")"
   ]
  },
  {
   "cell_type": "code",
   "execution_count": null,
   "metadata": {},
   "outputs": [
    {
     "name": "stdout",
     "output_type": "stream",
     "text": [
      "Original list: ['Apples', 'Bananas', 'Milk']\n",
      "Original tuple: ('Apples', 'Bananas', 'Milk')\n",
      "\n",
      "After modifying list: ['Apples', 'Oranges', 'Milk']\n",
      "\n",
      "Error when modifying tuple: 'tuple' object does not support item assignment\n"
     ]
    }
   ],
   "source": [
    "# # 5.Create a list and tuple in Python, and demonstrate how attempting to change an element works differently \n",
    "# for each.\n",
    "# Shopping cart as a list (mutable)\n",
    "shopping_cart_list = [\"Apples\", \"Bananas\", \"Milk\"]\n",
    "\n",
    "# Shopping cart as a tuple (immutable)\n",
    "shopping_cart_tuple = (\"Apples\", \"Bananas\", \"Milk\")\n",
    "\n",
    "print(\"Original list:\", shopping_cart_list)\n",
    "print(\"Original tuple:\", shopping_cart_tuple)\n",
    "\n",
    "#  Modifying a list\n",
    "shopping_cart_list[1] = \"Oranges\"  # Replacing Bananas with Oranges\n",
    "print(\"\\nAfter modifying list:\", shopping_cart_list)\n",
    "\n",
    "#  Attempting to modify a tuple\n",
    "try:\n",
    "    shopping_cart_tuple[1] = \"Oranges\"  # This will cause an error\n",
    "except TypeError as e:\n",
    "    print(\"\\nError when modifying tuple:\", e)\n"
   ]
  },
  {
   "cell_type": "code",
   "execution_count": null,
   "metadata": {},
   "outputs": [],
   "source": [
    "# 6 Write a function to demonstrate the behavior of mutable and immutable arguments.\n",
    "# Function to demonstrate mutable and immutable arguments\n",
    "def modify_data(my_list, my_number):\n",
    "    # Modifying the list (mutable)\n",
    "    my_list.append(100)\n",
    "    \n",
    "    # Modifying the number (immutable)\n",
    "    my_number += 10\n",
    "    \n",
    "    print(\"\\nInside function:\")\n",
    "    print(\"List after change:\", my_list)\n",
    "    print(\"Number after change:\", my_number)\n",
    "\n",
    "\n",
    "# Original data\n",
    "numbers_list = [1, 2, 3]\n",
    "num_value = 50\n",
    "\n",
    "print(\"Before function call:\")\n",
    "print(\"List:\", numbers_list)\n",
    "print(\"Number:\", num_value)\n",
    "\n",
    "# Call the function\n",
    "modify_data(numbers_list, num_value)\n",
    "\n",
    "print(\"\\nAfter function call:\")\n",
    "print(\"List:\", numbers_list)   # Changed outside as well because lists are mutable\n",
    "print(\"Number:\", num_value)    # Unchanged outside because integers are immutable\n"
   ]
  },
  {
   "cell_type": "code",
   "execution_count": null,
   "metadata": {},
   "outputs": [],
   "source": [
    "# 7. Write a program that performs basic arithmetic operations on two user-input numbers.\n",
    "# Basic arithmetic operations on two user-input numbers\n",
    "\n",
    "# Taking input from the user\n",
    "num1 = float(input(\"Enter the first number: \"))\n",
    "num2 = float(input(\"Enter the second number: \"))\n",
    "\n",
    "# Performing arithmetic operations\n",
    "addition = num1 + num2\n",
    "subtraction = num1 - num2\n",
    "multiplication = num1 * num2\n",
    "\n",
    "# Check for division by zero\n",
    "if num2 != 0:\n",
    "    division = num1 / num2\n",
    "else:\n",
    "    division = \"Undefined (cannot divide by zero)\"\n",
    "\n",
    "# Display results\n",
    "print(\"\\n--- Results ---\")\n",
    "print(f\"{num1} + {num2} = {addition}\")\n",
    "print(f\"{num1} - {num2} = {subtraction}\")\n",
    "print(f\"{num1} × {num2} = {multiplication}\")\n",
    "print(f\"{num1} ÷ {num2} = {division}\")\n"
   ]
  },
  {
   "cell_type": "code",
   "execution_count": null,
   "metadata": {},
   "outputs": [],
   "source": [
    "# 8.  Write a program to demonstrate the use of logical operators\n",
    "# Program to demonstrate logical operators\n",
    "\n",
    "# Taking input\n",
    "math_score = int(input(\"Enter Math score: \"))\n",
    "science_score = int(input(\"Enter Science score: \"))\n",
    "pe_score = int(input(\"Enter PE (Physical Education) score: \"))\n",
    "\n",
    "# Using AND operator (both conditions must be true)\n",
    "if math_score >= 50 and science_score >= 50:\n",
    "    print(\" You passed both Math and Science.\")\n",
    "else:\n",
    "    print(\" You did not pass both Math and Science.\")\n",
    "\n",
    "# Using OR operator (at least one condition must be true)\n",
    "if math_score >= 50 or pe_score >= 50:\n",
    "    print(\" You are eligible for the sports team.\")\n",
    "else:\n",
    "    print(\" You are not eligible for the sports team.\")\n",
    "\n",
    "# Using NOT operator (reverses the condition)\n",
    "if not (math_score < 50 or science_score < 50 or pe_score < 50):\n",
    "    print(\" You did not fail in any subject.\")\n",
    "else:\n",
    "    print(\" You failed in at least one subject.\")\n"
   ]
  },
  {
   "cell_type": "code",
   "execution_count": null,
   "metadata": {},
   "outputs": [],
   "source": [
    "# 9. Write a Python program to convert user input from string to integer, float, and boolean types.\n",
    "user_input = input(\"Enter any value: \")\n",
    "\n",
    "print(\"\\n--- Data Type Conversions ---\")\n",
    "\n",
    "try:\n",
    "    int_value = int(user_input)\n",
    "    print(f\"Integer conversion: {int_value}  (type: {type(int_value)})\")\n",
    "except ValueError:\n",
    "    print(\"Integer conversion: Cannot convert to integer.\")\n",
    "\n",
    "try:\n",
    "    float_value = float(user_input)\n",
    "    print(f\"Float conversion: {float_value}  (type: {type(float_value)})\")\n",
    "except ValueError:\n",
    "    print(\"Float conversion: Cannot convert to float.\")\n",
    "\n",
    "bool_value = bool(user_input.strip())\n",
    "print(f\"Boolean conversion: {bool_value}  (type: {type(bool_value)})\")\n"
   ]
  },
  {
   "cell_type": "code",
   "execution_count": null,
   "metadata": {},
   "outputs": [],
   "source": [
    "# 10. Write code to demonstrate type casting with list elements\n",
    "data = [\"10\", \"20\", \"30\", \"40.5\", \"50.7\"]\n",
    "\n",
    "ints = [int(float(x)) for x in data]\n",
    "floats = [float(x) for x in data]\n",
    "bools = [bool(x) for x in data]\n",
    "\n",
    "print(\"Original list:\", data)\n",
    "print(\"As integers:\", ints)\n",
    "print(\"As floats:\", floats)\n",
    "print(\"As booleans:\", bools)\n"
   ]
  },
  {
   "cell_type": "code",
   "execution_count": null,
   "metadata": {},
   "outputs": [],
   "source": [
    "# 11.  Write a program that checks if a number is positive, negative, or zero\n",
    "num = float(input(\"Enter a number: \"))\n",
    "if num > 0:\n",
    "    print(\"Positive\")\n",
    "elif num < 0:\n",
    "    print(\"Negative\")\n",
    "else:\n",
    "    print(\"Zero\")"
   ]
  },
  {
   "cell_type": "code",
   "execution_count": 8,
   "metadata": {},
   "outputs": [
    {
     "name": "stdout",
     "output_type": "stream",
     "text": [
      "1\n",
      "2\n",
      "3\n",
      "4\n",
      "5\n",
      "6\n",
      "7\n",
      "8\n",
      "9\n",
      "10\n"
     ]
    }
   ],
   "source": [
    "# 12.  Write a program that checks if a number is positive, negative, or zero\n",
    "for i in range(1, 11):\n",
    "    print(i)"
   ]
  },
  {
   "cell_type": "code",
   "execution_count": null,
   "metadata": {},
   "outputs": [],
   "source": [
    "# 13. Write a Python program to find the sum of all even numbers between 1 and 50\n",
    "total = sum(i for i in range(2, 51, 2))\n",
    "print(total)"
   ]
  },
  {
   "cell_type": "code",
   "execution_count": 9,
   "metadata": {},
   "outputs": [
    {
     "name": "stdout",
     "output_type": "stream",
     "text": [
      "esu\n"
     ]
    }
   ],
   "source": [
    "# 14.  Write a program to reverse a string using a while loop\n",
    "text = input(\"Enter a string: \")\n",
    "rev = \"\"\n",
    "i = len(text) - 1\n",
    "while i >= 0:\n",
    "    rev += text[i]\n",
    "    i -= 1\n",
    "print(rev)"
   ]
  },
  {
   "cell_type": "code",
   "execution_count": 10,
   "metadata": {},
   "outputs": [
    {
     "name": "stdout",
     "output_type": "stream",
     "text": [
      "Factorial of 5 is 120\n"
     ]
    }
   ],
   "source": [
    "# 15. Write a Python program to calculate the factorial of a number provided by the user using a while loop.\n",
    "num = int(input(\"Enter a non-negative integer: \"))\n",
    "\n",
    "factorial = 1\n",
    "i = 1\n",
    "\n",
    "while i <= num:\n",
    "    factorial *= i\n",
    "    i += 1\n",
    "\n",
    "print(\"Factorial of\", num, \"is\", factorial)\n"
   ]
  }
 ],
 "metadata": {
  "kernelspec": {
   "display_name": "base",
   "language": "python",
   "name": "python3"
  },
  "language_info": {
   "codemirror_mode": {
    "name": "ipython",
    "version": 3
   },
   "file_extension": ".py",
   "mimetype": "text/x-python",
   "name": "python",
   "nbconvert_exporter": "python",
   "pygments_lexer": "ipython3",
   "version": "3.13.5"
  }
 },
 "nbformat": 4,
 "nbformat_minor": 5
}
