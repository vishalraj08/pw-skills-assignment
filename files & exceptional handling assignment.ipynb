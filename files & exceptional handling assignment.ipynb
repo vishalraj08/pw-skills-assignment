{
  "cells": [
    {
      "cell_type": "markdown",
      "metadata": {},
      "source": [
        "# Python Assignment: Files, Exception Handling, Logging, and Memory Management\n",
        "\n"
      ]
    },
    {
      "cell_type": "markdown",
      "metadata": {},
      "source": [
        "--- \n",
        "## Part 1: Theoretical Questions"
      ]
    },
    {
      "cell_type": "markdown",
      "metadata": {},
      "source": [
        "### Q1. What is the difference between interpreted and compiled languages?"
      ]
    },
    {
      "cell_type": "markdown",
      "metadata": {},
      "source": [
        "The main difference comes down to how the source code is turned into machine code that the computer can actually run.\n",
        "\n",
        "* **Compiled Languages:** In a compiled language like C++ or Java, the entire source code is first translated into machine code by a program called a **compiler**. This creates a separate executable file (`.exe` on Windows, for example). You then run this file. Since all the translation is done upfront, compiled programs generally run faster. \n",
        "    * **Analogy:** It's like translating an entire book from one language to another before giving it to someone to read. The reader can then go through the translated book very quickly.\n",
        "\n",
        "* **Interpreted Languages:** In an interpreted language like Python or JavaScript, the code is read and executed line-by-line by a program called an **interpreter**. There's no separate compilation step. The interpreter acts as a middleman, reading a line of code, translating it to machine code, and then executing it before moving to the next line. This makes them a bit more flexible and easier to debug, but often slower.\n",
        "    * **Analogy:** This is like having a live interpreter who translates a speech sentence-by-sentence for an audience. The process happens on the fly."
      ]
    },
    {
      "cell_type": "markdown",
      "metadata": {},
      "source": [
        "### Q2. What is exception handling in Python?"
      ]
    },
    {
      "cell_type": "markdown",
      "metadata": {},
      "source": [
        "Exception handling is a way to deal with errors that happen while a program is running. Instead of the program crashing when an error (called an \"exception\") occurs, you can **catch** the exception and decide how to handle it. This makes your code more robust and prevents unexpected shutdowns. You use `try`, `except`, `else`, and `finally` blocks to manage this process. It's basically a safety net for your code. 👍"
      ]
    },
    {
      "cell_type": "markdown",
      "metadata": {},
      "source": [
        "### Q3. What is the purpose of the `finally` block in exception handling?"
      ]
    },
    {
      "cell_type": "markdown",
      "metadata": {},
      "source": [
        "The `finally` block is all about **cleanup**. The code inside a `finally` block is **guaranteed to run**, no matter what happens in the `try` and `except` blocks. It will execute whether:\n",
        "\n",
        "* The `try` block completes successfully.\n",
        "* An exception occurs and is caught by an `except` block.\n",
        "* An exception occurs that is *not* caught.\n",
        "\n",
        "This is super useful for tasks that must be done regardless of the outcome, like closing a file or releasing a network connection, to ensure you don't leave resources locked up."
      ]
    },
    {
      "cell_type": "markdown",
      "metadata": {},
      "source": [
        "### Q4. What is logging in Python?"
      ]
    },
    {
      "cell_type": "markdown",
      "metadata": {},
      "source": [
        "Logging is a way to record events that happen while your program is running. It's like keeping a diary for your application. Instead of just printing messages to the console (which can get messy and is lost when the program closes), logging allows you to:\n",
        "\n",
        "* Record messages to a file.\n",
        "* Control the severity of messages (e.g., DEBUG, INFO, WARNING, ERROR, CRITICAL).\n",
        "* Include extra information like timestamps, the part of the code where the event happened, etc.\n",
        "\n",
        "It's a really important tool for debugging and monitoring applications, especially when they're running on a server where you can't see the console."
      ]
    },
    {
      "cell_type": "markdown",
      "metadata": {},
      "source": [
        "### Q5. What is the significance of the `__del__` method in Python?"
      ]
    },
    {
      "cell_type": "markdown",
      "metadata": {},
      "source": [
        "The `__del__` method, also known as a destructor, is a special method that is called right before an object is destroyed or \"garbage collected.\" Its main purpose is to allow an object to perform any necessary cleanup tasks before it's removed from memory.\n",
        "\n",
        "However, it's a bit tricky. Python's garbage collection is automatic, and you don't have precise control over *when* `__del__` will be called. Because of this, it's often better to use explicit cleanup methods or context managers (like the `with` statement) for important tasks like closing files."
      ]
    },
    {
      "cell_type": "markdown",
      "metadata": {},
      "source": [
        "### Q6. What is the difference between `import` and `from... import` in Python?"
      ]
    },
    {
      "cell_type": "markdown",
      "metadata": {},
      "source": [
        "Both are used to bring code from other modules into your current script, but they do it slightly differently:\n",
        "\n",
        "* **`import module_name`**: This imports the entire module. To access anything inside it, you have to use the module's name as a prefix. For example, if you `import math`, you need to use `math.sqrt()` to get the square root function.\n",
        "    * **Pro:** This keeps the namespace clean and avoids naming conflicts. You always know exactly where a function is coming from.\n",
        "\n",
        "* **`from module_name import function_name`**: This imports a specific function or variable directly into your current script's namespace. For example, if you `from math import sqrt`, you can just call `sqrt()` directly without the `math.` prefix.\n",
        "    * **Pro:** It can make your code slightly shorter.\n",
        "    * **Con:** It can lead to confusion or naming conflicts if you import two functions with the same name from different modules."
      ]
    },
    {
      "cell_type": "markdown",
      "metadata": {},
      "source": [
        "### Q7. How can you handle multiple exceptions in Python?"
      ]
    },
    {
      "cell_type": "markdown",
      "metadata": {},
      "source": [
        "There are a couple of ways to do this:\n",
        "\n",
        "1.  **Multiple `except` Blocks**: You can have more than one `except` block following a `try` block, with each one handling a different type of exception.\n",
        "    ```python\n",
        "    try:\n",
        "        # Some code that might cause an error\n",
        "        pass\n",
        "    except ValueError:\n",
        "        print(\"Handling a value error\")\n",
        "    except TypeError:\n",
        "        print(\"Handling a type error\")\n",
        "    ```\n",
        "\n",
        "2.  **Tuple of Exceptions**: If you want to perform the same action for several different exceptions, you can group them into a tuple in a single `except` block.\n",
        "    ```python\n",
        "    try:\n",
        "        # Some code that might cause an error\n",
        "        pass\n",
        "    except (ValueError, TypeError):\n",
        "        print(\"Handling both value and type errors here\")\n",
        "    ```"
      ]
    },
    {
      "cell_type": "markdown",
      "metadata": {},
      "source": [
        "### Q8. What is the purpose of the `with` statement when handling files in Python?"
      ]
    },
    {
      "cell_type": "markdown",
      "metadata": {},
      "source": [
        "The `with` statement is used to wrap the execution of a block of code. When used with files, it's a cleaner and safer way to manage file resources.\n",
        "\n",
        "Its main purpose is to **automatically handle the opening and closing of the file**. When you use `with open(...) as f:`, Python ensures that `f.close()` is called automatically as soon as the block is exited, even if an error occurs inside the block. This prevents resource leaks and is the best way to work with files."
      ]
    },
    {
      "cell_type": "markdown",
      "metadata": {},
      "source": [
        "### Q9. What is the difference between multithreading and multiprocessing?"
      ]
    },
    {
      "cell_type": "markdown",
      "metadata": {},
      "source": [
        "Both are used to run code at the same time, but they do it in fundamentally different ways.\n",
        "\n",
        "* **Multithreading:**\n",
        "    * Threads are like smaller workers within a single process.\n",
        "    * They all run in the **same memory space**, so they can share data easily.\n",
        "    * This is great for I/O-bound tasks (like waiting for a web request or reading a file), where the program spends a lot of time waiting. \n",
        "    * In Python, due to the Global Interpreter Lock (GIL), only one thread can actually run Python code at a time, so it's not true parallelism for CPU-heavy tasks.\n",
        "\n",
        "* **Multiprocessing:**\n",
        "    * Processes are completely separate programs.\n",
        "    * Each process gets its **own memory space** and its own Python interpreter.\n",
        "    * This is perfect for CPU-bound tasks (like heavy calculations) because it allows for true parallel execution across multiple CPU cores.\n",
        "    * Sharing data between processes is more complex since they don't share memory."
      ]
    },
    {
      "cell_type": "markdown",
      "metadata": {},
      "source": [
        "### Q10. What are the advantages of using logging in a program?"
      ]
    },
    {
      "cell_type": "markdown",
      "metadata": {},
      "source": [
        "Using logging over simple `print()` statements has a bunch of great advantages:\n",
        "\n",
        "1.  **Control Over Severity:** You can assign different levels to your messages (DEBUG, INFO, WARNING, ERROR), which lets you filter them later. You can choose to only see errors in a production environment, but see all debug messages during development.\n",
        "2.  **Flexible Output:** You can easily send your log messages to different places, like the console, a file, or even over a network, without changing your application code.\n",
        "3.  **Rich Context:** Logs can automatically include useful info like a timestamp, the name of the file, and the line number where the log was made.\n",
        "4.  **Performance:** You can turn off logging for certain levels in your production code, so those logging calls won't slow your program down.\n",
        "5.  **Standard Practice:** It's a professional standard that makes it easier for other people (and your future self!) to understand and debug the application."
      ]
    },
    {
      "cell_type": "markdown",
      "metadata": {},
      "source": [
        "### Q11. What is memory management in Python?"
      ]
    },
    {
      "cell_type": "markdown",
      "metadata": {},
      "source": [
        "Memory management in Python is how the program handles memory. This includes allocating memory for objects when you create them and then freeing that memory when it's no longer needed. The good news is that Python handles most of this automatically for us. The main parts are:\n",
        "\n",
        "* **Private Heap Space:** This is a special area of memory where all Python objects and data structures are stored.\n",
        "* **Memory Allocator:** This handles putting new objects into the heap.\n",
        "* **Garbage Collector:** This is the automatic process that finds objects that are no longer in use and reclaims their memory, making it available for new objects."
      ]
    },
    {
      "cell_type": "markdown",
      "metadata": {},
      "source": [
        "### Q12. What are the basic steps involved in exception handling in Python?"
      ]
    },
    {
      "cell_type": "markdown",
      "metadata": {},
      "source": [
        "The process generally follows these steps:\n",
        "\n",
        "1.  **`try`**: You place the code that might cause an error inside a `try` block.\n",
        "2.  **`except`**: If an exception happens in the `try` block, the interpreter looks for a matching `except` block to handle that specific type of error. If it finds one, the code in that `except` block is run.\n",
        "3.  **`else` (Optional)**: If the `try` block completes without any exceptions, the code in the optional `else` block is executed.\n",
        "4.  **`finally` (Optional)**: The code in the `finally` block is executed no matter what, making it perfect for cleanup actions."
      ]
    },
    {
      "cell_type": "markdown",
      "metadata": {},
      "source": [
        "### Q13. Why is memory management important in Python?"
      ]
    },
    {
      "cell_type": "markdown",
      "metadata": {},
      "source": [
        "Even though Python's memory management is automatic, understanding it is important for a few reasons:\n",
        "\n",
        "1.  **Preventing Memory Leaks:** Sometimes, you can accidentally keep references to objects you don't need anymore. If this happens, the garbage collector might not be able to free them. This can lead to a memory leak, where your program's memory usage grows over time until it eventually crashes. 😟\n",
        "2.  **Performance:** Creating and destroying objects isn't free; it takes time. Understanding how memory is managed can help you write more efficient code, especially in applications that handle large amounts of data.\n",
        "3.  **Debugging:** When you run into tricky issues related to high memory usage or slow performance, knowing how memory works can be a huge help in figuring out the problem."
      ]
    },
    {
      "cell_type": "markdown",
      "metadata": {},
      "source": [
        "### Q14. What is the role of `try` and `except` in exception handling?"
      ]
    },
    {
      "cell_type": "markdown",
      "metadata": {},
      "source": [
        "They are the core duo of exception handling:\n",
        "\n",
        "* **`try` block:** Its job is to surround the \"risky\" code—the code that you think might raise an exception. It's like telling Python, \"Hey, try to run this code, but be ready for something to go wrong.\"\n",
        "\n",
        "* **`except` block:** Its job is to be the \"safety net.\" If an exception *does* happen inside the `try` block, the program's normal flow stops, and Python looks for an `except` block that matches the type of exception. If a match is found, the code inside that `except` block is run. If no matching `except` block is found, the program will crash."
      ]
    },
    {
      "cell_type": "markdown",
      "metadata": {},
      "source": [
        "### Q15. How does Python's garbage collection system work?"
      ]
    },
    {
      "cell_type": "markdown",
      "metadata": {},
      "source": [
        "Python's main garbage collection system is **reference counting**, but it also has a **cycle detector** to help out.\n",
        "\n",
        "1.  **Reference Counting:** Every object in memory has a counter that keeps track of how many variables are pointing to it. When a new variable points to the object, the count goes up. When a variable stops pointing to it, the count goes down. When the count hits **zero**, it means nothing is using the object anymore, and Python can safely delete it and reclaim its memory.\n",
        "\n",
        "2.  **Cycle Detector:** Reference counting alone can't handle a situation called a \"reference cycle.\" This is where two objects refer to each other (e.g., A points to B, and B points to A). In this case, their reference counts will never drop to zero, even if nothing else in the program is using them. To solve this, Python periodically runs a special process that looks for these isolated cycles and cleans them up."
      ]
    },
    {
      "cell_type": "markdown",
      "metadata": {},
      "source": [
        "### Q16. What is the purpose of the `else` block in exception handling?"
      ]
    },
    {
      "cell_type": "markdown",
      "metadata": {},
      "source": [
        "The optional `else` block is used for code that should run **only if the `try` block completes successfully** (meaning, no exceptions were raised).\n",
        "\n",
        "This can be useful for making your code clearer. You can put the one line that might fail in the `try` block, and all the code that should happen after it succeeds in the `else` block.\n",
        "\n",
        "```python\n",
        "try:\n",
        "    result = 10 / 2  # This might raise an exception\n",
        "except ZeroDivisionError:\n",
        "    print(\"You can't divide by zero!\")\n",
        "else:\n",
        "    # This only runs if the division was successful\n",
        "    print(f\"The result is {result}.\")\n",
        "```"
      ]
    },
    {
      "cell_type": "markdown",
      "metadata": {},
      "source": [
        "### Q17. What are the common logging levels in Python?"
      ]
    },
    {
      "cell_type": "markdown",
      "metadata": {},
      "source": [
        "The Python `logging` module has five standard levels of severity, listed here from lowest to highest:\n",
        "\n",
        "1.  **DEBUG:** Very detailed information, mostly used when you're trying to diagnose a problem.\n",
        "2.  **INFO:** A general message confirming that things are working as expected.\n",
        "3.  **WARNING:** An alert that something unexpected happened, but the program is still working fine. (This is the default level, so you'll see warnings and everything above it if you don't configure anything).\n",
        "4.  **ERROR:** A more serious problem that prevented the program from performing a specific task.\n",
        "5.  **CRITICAL:** A very serious error, indicating that the program itself might be unable to continue running."
      ]
    },
    {
      "cell_type": "markdown",
      "metadata": {},
      "source": [
        "### Q18. What is the difference between `os.fork()` and `multiprocessing` in Python?"
      ]
    },
    {
      "cell_type": "markdown",
      "metadata": {},
      "source": [
        "* **`os.fork()`:**\n",
        "    * This is a low-level system call that's only available on **Unix-like systems** (Linux, macOS). It doesn't work on Windows.\n",
        "    * It creates an exact copy of the current process. It's a bit more primitive and requires you to manage the processes manually.\n",
        "\n",
        "* **`multiprocessing` module:**\n",
        "    * This is a high-level Python library for creating and managing processes.\n",
        "    * It's **cross-platform**, so it works on Windows, Linux, and macOS.\n",
        "    * It provides a much simpler and more Python-friendly way to work with processes, including tools for communication (like Queues and Pipes). \n",
        "    * For almost all cases in Python, using the `multiprocessing` module is the way to go."
      ]
    },
    {
      "cell_type": "markdown",
      "metadata": {},
      "source": [
        "### Q19. What is the importance of closing a file in Python?"
      ]
    },
    {
      "cell_type": "markdown",
      "metadata": {},
      "source": [
        "Closing a file is super important for a few reasons:\n",
        "\n",
        "1.  **Saving Changes:** When you write to a file, the changes might be stored in a temporary buffer in memory. Closing the file ensures that this buffer is \"flushed,\" and all your data is actually written to the disk. If you don't close it, you could lose data.\n",
        "2.  **Releasing Resources:** An open file uses up system resources. Operating systems have a limit on how many files a program can have open at once. If you forget to close files, you could hit that limit and your program might crash.\n",
        "3.  **Allowing Others to Use It:** On some systems, an open file might be locked, preventing other programs from accessing it. Closing the file releases that lock."
      ]
    },
    {
      "cell_type": "markdown",
      "metadata": {},
      "source": [
        "### Q20. What is the difference between `file.read()` and `file.readline()` in Python?"
      ]
    },
    {
      "cell_type": "markdown",
      "metadata": {},
      "source": [
        "They both read from a file, but they read different amounts of data.\n",
        "\n",
        "* **`file.read()`**: This reads the **entire content** of the file (from the current position to the end) and returns it as a single string. If the file is huge, this can use up a lot of memory.\n",
        "\n",
        "* **`file.readline()`**: This reads just **one single line** from the file, up to and including the newline character (`\\n`). If you call it again, it will read the next line. This is much more memory-efficient for reading large files line by line."
      ]
    },
    {
      "cell_type": "markdown",
      "metadata": {},
      "source": [
        "### Q21. What is the `logging` module in Python used for?"
      ]
    },
    {
      "cell_type": "markdown",
      "metadata": {},
      "source": [
        "The `logging` module is Python's built-in library for, well, logging! It's used to record events, errors, and other information while a program is running. It's much more powerful than just using `print()` statements because it allows you to:\n",
        "\n",
        "* Send messages to different places (files, console, etc.).\n",
        "* Set severity levels (like DEBUG, INFO, ERROR).\n",
        "* Format your log messages with timestamps and other useful info.\n",
        "* Configure logging for different parts of your application independently.\n",
        "\n",
        "It's the standard way to instrument your code for debugging and monitoring."
      ]
    },
    {
      "cell_type": "markdown",
      "metadata": {},
      "source": [
        "### Q22. What is the `os` module in Python used for in file handling?"
      ]
    },
    {
      "cell_type": "markdown",
      "metadata": {},
      "source": [
        "The `os` module is a powerful built-in module that provides a way of using operating system-dependent functionality. For file handling, it's used for tasks that go beyond just reading and writing the *contents* of a file. It's more about managing the files and directories themselves. Some common uses include:\n",
        "\n",
        "* **Checking existence:** `os.path.exists('file.txt')`\n",
        "* **Getting file size:** `os.path.getsize('file.txt')`\n",
        "* **Renaming or moving files:** `os.rename('old.txt', 'new.txt')`\n",
        "* **Deleting files:** `os.remove('file_to_delete.txt')`\n",
        "* **Working with directories:** Creating (`os.mkdir()`), listing contents (`os.listdir()`), and removing them (`os.rmdir()`)."
      ]
    },
    {
      "cell_type": "markdown",
      "metadata": {},
      "source": [
        "### Q23. What are the challenges associated with memory management in Python?"
      ]
    },
    {
      "cell_type": "markdown",
      "metadata": {},
      "source": [
        "Even though Python's memory management is automatic, there are still a few challenges:\n",
        "\n",
        "1.  **Memory Leaks:** The biggest challenge is still memory leaks, often caused by **reference cycles**. If two objects refer to each other, the reference counting system won't clean them up. While the cycle detector helps, it's not foolproof and can be slow.\n",
        "2.  **Performance Overhead:** The automatic garbage collection process, especially the cycle detector, takes time to run. In performance-critical applications, this can sometimes cause noticeable pauses.\n",
        "3.  **Memory Fragmentation:** Over time, as objects are created and destroyed, the memory can become fragmented (like having lots of small, non-contiguous empty spaces). This can make it hard to allocate a large block of memory, even if there's enough total free memory available.\n",
        "4.  **Large Datasets:** For programs that process very large amounts of data, the automatic system might not be efficient enough, and you might need to use more advanced techniques like memory-mapped files or specialized data structures to manage memory manually."
      ]
    },
    {
      "cell_type": "markdown",
      "metadata": {},
      "source": [
        "### Q24. How do you raise an exception manually in Python?"
      ]
    },
    {
      "cell_type": "markdown",
      "metadata": {},
      "source": [
        "You can raise an exception manually using the `raise` keyword. This is useful when you detect an error condition in your code and want to signal it, just like Python's built-in operations do.\n",
        "\n",
        "You can raise a specific type of exception and even include a custom error message.\n",
        "\n",
        "```python\n",
        "def set_age(age):\n",
        "    if age < 0:\n",
        "        # It's impossible to have a negative age, so we raise an error.\n",
        "        raise ValueError(\"Age cannot be negative.\")\n",
        "    print(f\"Age is set to {age}\")\n",
        "\n",
        "try:\n",
        "    set_age(-5)\n",
        "except ValueError as e:\n",
        "    print(f\"Error caught: {e}\")\n",
        "```"
      ]
    },
    {
      "cell_type": "markdown",
      "metadata": {},
      "source": [
        "### Q25. Why is it important to use multithreading in certain applications?"
      ]
    },
    {
      "cell_type": "markdown",
      "metadata": {},
      "source": [
        "Using multithreading is really important for improving the **responsiveness** and **performance** of certain types of applications, especially those that are **I/O-bound**.\n",
        "\n",
        "An I/O-bound task is one where the program spends most of its time waiting for something external, like downloading a file, querying a database, or waiting for user input. \n",
        "\n",
        "Here's why multithreading is key in these cases:\n",
        "\n",
        "* **User Interface Responsiveness:** In a desktop or mobile app, if you run a long task (like a file download) on the main thread, the entire user interface will freeze. By running the download on a separate thread, the UI remains responsive, and the user can continue to interact with the app. 🚀\n",
        "* **Concurrent Operations:** For a web server, each incoming request can be handled by a separate thread. This allows the server to handle many users at the same time, instead of making them wait in a long line.\n",
        "\n",
        "Basically, while one thread is busy waiting, the processor can switch to another thread and do useful work. This makes the application feel much faster and more efficient."
      ]
    },
    {
      "cell_type": "markdown",
      "metadata": {},
      "source": [
        "---\n",
        "## Part 2: Practical Questions"
      ]
    },
    {
      "cell_type": "markdown",
      "metadata": {},
      "source": [
        "### Q1. How can you open a file for writing in Python and write a string to it?"
      ]
    },
    {
      "cell_type": "code",
      "execution_count": 3,
      "metadata": {},
      "outputs": [
        {
          "name": "stdout",
          "output_type": "stream",
          "text": [
            "Successfully wrote to 'my_first_file.txt'\n"
          ]
        }
      ],
      "source": [
        "file_path = 'my_first_file.txt'\n",
        "content_to_write = 'Hello, this is my first time writing to a file in Python!\\n'\n",
        "\n",
        "# Using the 'with' statement is the recommended way\n",
        "try:\n",
        "    with open(file_path, 'w') as f:\n",
        "        f.write(content_to_write)\n",
        "        f.write(\"This is a second line.\\n\")\n",
        "    print(f\"Successfully wrote to '{file_path}'\")\n",
        "except IOError as e:\n",
        "    print(f\"An error occurred: {e}\")"
      ]
    },
    {
      "cell_type": "markdown",
      "metadata": {},
      "source": [
        "### Q2. Write a Python program to read the contents of a file and print each line."
      ]
    },
    {
      "cell_type": "code",
      "execution_count": 4,
      "metadata": {},
      "outputs": [
        {
          "name": "stdout",
          "output_type": "stream",
          "text": [
            "'sample_lines.txt' created successfully.\n"
          ]
        }
      ],
      "source": [
        "# Step 1: Create a sample file to read\n",
        "file_to_read = 'sample_lines.txt'\n",
        "with open(file_to_read, 'w') as f:\n",
        "    f.write(\"First line of the file.\\n\")\n",
        "    f.write(\"Second line of the file.\\n\")\n",
        "    f.write(\"Third and final line.\\n\")\n",
        "\n",
        "print(f\"'{file_to_read}' created successfully.\")"
      ]
    },
    {
      "cell_type": "code",
      "execution_count": 5,
      "metadata": {},
      "outputs": [
        {
          "name": "stdout",
          "output_type": "stream",
          "text": [
            "\n",
            "Reading the file:\n",
            "---\n",
            "First line of the file.\n",
            "Second line of the file.\n",
            "Third and final line.\n"
          ]
        }
      ],
      "source": [
        "# Step 2: Read the file and print each line\n",
        "print(\"\\nReading the file:\\n---\")\n",
        "try:\n",
        "    with open(file_to_read, 'r') as f:\n",
        "        for line in f:\n",
        "            # The strip() removes any trailing newline characters for cleaner printing\n",
        "            print(line.strip())\n",
        "except FileNotFoundError:\n",
        "    print(f\"Error: The file '{file_to_read}' was not found.\")"
      ]
    },
    {
      "cell_type": "markdown",
      "metadata": {},
      "source": [
        "### Q3. How would you handle a case where the file doesn't exist while trying to open it for reading?"
      ]
    },
    {
      "cell_type": "code",
      "execution_count": 6,
      "metadata": {},
      "outputs": [
        {
          "name": "stdout",
          "output_type": "stream",
          "text": [
            "Oops! The file named 'this_file_does_not_exist.txt' couldn't be found. Please check the name.\n"
          ]
        }
      ],
      "source": [
        "non_existent_file = 'this_file_does_not_exist.txt'\n",
        "\n",
        "try:\n",
        "    with open(non_existent_file, 'r') as f:\n",
        "        content = f.read()\n",
        "        print(content)\n",
        "except FileNotFoundError:\n",
        "    print(f\"Oops! The file named '{non_existent_file}' couldn't be found. Please check the name.\")\n",
        "except Exception as e:\n",
        "    print(f\"An unexpected error occurred: {e}\")"
      ]
    },
    {
      "cell_type": "markdown",
      "metadata": {},
      "source": [
        "### Q4. Write a Python script that reads from one file and writes its content to another file."
      ]
    },
    {
      "cell_type": "code",
      "execution_count": 7,
      "metadata": {},
      "outputs": [
        {
          "name": "stdout",
          "output_type": "stream",
          "text": [
            "Successfully copied content from 'sample_lines.txt' to 'copied_content.txt'\n"
          ]
        }
      ],
      "source": [
        "# First, let's make sure our source file exists\n",
        "source_file = 'sample_lines.txt' # Using the file from Q2\n",
        "destination_file = 'copied_content.txt'\n",
        "\n",
        "try:\n",
        "    # Open the source file for reading and destination for writing\n",
        "    with open(source_file, 'r') as src, open(destination_file, 'w') as dest:\n",
        "        # Read the content from the source\n",
        "        content = src.read()\n",
        "        # Write the content to the destination\n",
        "        dest.write(content)\n",
        "    \n",
        "    print(f\"Successfully copied content from '{source_file}' to '{destination_file}'\")\n",
        "except FileNotFoundError:\n",
        "    print(f\"Error: The source file '{source_file}' was not found.\")\n",
        "except Exception as e:\n",
        "    print(f\"An error occurred: {e}\")"
      ]
    },
    {
      "cell_type": "markdown",
      "metadata": {},
      "source": [
        "### Q5. How would you catch and handle a division by zero error in Python?"
      ]
    },
    {
      "cell_type": "code",
      "execution_count": 8,
      "metadata": {},
      "outputs": [
        {
          "name": "stdout",
          "output_type": "stream",
          "text": [
            "Error: You can't divide by zero! Please choose a different denominator.\n"
          ]
        }
      ],
      "source": [
        "numerator = 10\n",
        "denominator = 0\n",
        "\n",
        "try:\n",
        "    result = numerator / denominator\n",
        "    print(f\"The result is {result}\")\n",
        "except ZeroDivisionError:\n",
        "    print(\"Error: You can't divide by zero! Please choose a different denominator.\")"
      ]
    },
    {
      "cell_type": "markdown",
      "metadata": {},
      "source": [
        "### Q6. Write a Python program that logs an error message to a log file when a division by zero exception occurs."
      ]
    },
    {
      "cell_type": "code",
      "execution_count": 9,
      "metadata": {},
      "outputs": [
        {
          "name": "stdout",
          "output_type": "stream",
          "text": [
            "Attempting to divide 10 by 2...\n",
            "Attempting to divide 10 by 0...\n",
            "Check the 'error.log' file for the logged error.\n"
          ]
        }
      ],
      "source": [
        "import logging\n",
        "\n",
        "# Configure the logging system\n",
        "logging.basicConfig(\n",
        "    filename='error.log', \n",
        "    level=logging.ERROR, \n",
        "    format='%(asctime)s - %(levelname)s - %(message)s'\n",
        ")\n",
        "\n",
        "def safe_divide(numerator, denominator):\n",
        "    try:\n",
        "        result = numerator / denominator\n",
        "        return result\n",
        "    except ZeroDivisionError:\n",
        "        # Log the error with some context\n",
        "        logging.error(f\"Attempted to divide {numerator} by zero.\")\n",
        "        return None\n",
        "\n",
        "# Let's test it\n",
        "print(\"Attempting to divide 10 by 2...\")\n",
        "safe_divide(10, 2)\n",
        "\n",
        "print(\"Attempting to divide 10 by 0...\")\n",
        "safe_divide(10, 0)\n",
        "\n",
        "print(\"Check the 'error.log' file for the logged error.\")"
      ]
    },
    {
      "cell_type": "markdown",
      "metadata": {},
      "source": [
        "### Q7. How do you log information at different levels (INFO, ERROR, WARNING) in Python using the logging module?"
      ]
    },
    {
      "cell_type": "code",
      "execution_count": 27,
      "metadata": {},
      "outputs": [],
      "source": [
        "import logging\n",
        "\n",
        "# Configure logging to capture INFO and above, and print to the console\n",
        "logging.basicConfig(\n",
        "    level=logging.INFO, \n",
        "    format='%(asctime)s - %(levelname)s - %(message)s'\n",
        ")\n",
        "\n",
        "logging.info(\"This is an informational message. The program is starting up.\")\n",
        "logging.warning(\"This is a warning. The disk space is getting low.\")\n",
        "logging.error(\"This is an error. Failed to connect to the database.\")"
      ]
    },
    {
      "cell_type": "markdown",
      "metadata": {},
      "source": [
        "### Q8. Write a program to handle a file opening error using exception handling."
      ]
    },
    {
      "cell_type": "code",
      "execution_count": 11,
      "metadata": {},
      "outputs": [
        {
          "name": "stdout",
          "output_type": "stream",
          "text": [
            "--- Content of sample_lines.txt ---\n",
            "First line of the file.\n",
            "Second line of the file.\n",
            "Third and final line.\n",
            "\n",
            "\n",
            "--------------------\n",
            "\n",
            "Error: The file 'a_file_that_is_not_real.txt' was not found.\n"
          ]
        }
      ],
      "source": [
        "def read_file_safely(filepath):\n",
        "    \"\"\"Tries to open and read a file, handling potential errors.\"\"\"\n",
        "    try:\n",
        "        with open(filepath, 'r') as f:\n",
        "            print(f\"--- Content of {filepath} ---\")\n",
        "            print(f.read())\n",
        "    except FileNotFoundError:\n",
        "        print(f\"Error: The file '{filepath}' was not found.\")\n",
        "    except IOError as e:\n",
        "        print(f\"Error: Could not read the file '{filepath}'. Reason: {e}\")\n",
        "    except Exception as e:\n",
        "        print(f\"An unexpected error occurred: {e}\")\n",
        "\n",
        "# Test case 1: A file that exists (from Q2)\n",
        "read_file_safely('sample_lines.txt')\n",
        "\n",
        "print(\"\\n\" + \"-\"*20 + \"\\n\")\n",
        "\n",
        "# Test case 2: A file that does not exist\n",
        "read_file_safely('a_file_that_is_not_real.txt')"
      ]
    },
    {
      "cell_type": "markdown",
      "metadata": {},
      "source": [
        "### Q9. How can you read a file line by line and store its content in a list in Python?"
      ]
    },
    {
      "cell_type": "code",
      "execution_count": 12,
      "metadata": {},
      "outputs": [
        {
          "name": "stdout",
          "output_type": "stream",
          "text": [
            "File content stored in a list:\n",
            "['First line of the file.', 'Second line of the file.', 'Third and final line.']\n"
          ]
        }
      ],
      "source": [
        "file_to_read = 'sample_lines.txt'\n",
        "lines_list = []\n",
        "\n",
        "try:\n",
        "    with open(file_to_read, 'r') as f:\n",
        "        # The readlines() method does this in one go\n",
        "        lines_list = f.readlines()\n",
        "\n",
        "    # Let's clean up the newline characters from each line\n",
        "    lines_list = [line.strip() for line in lines_list]\n",
        "\n",
        "    print(\"File content stored in a list:\")\n",
        "    print(lines_list)\n",
        "except FileNotFoundError:\n",
        "    print(f\"Error: The file '{file_to_read}' was not found.\")"
      ]
    },
    {
      "cell_type": "markdown",
      "metadata": {},
      "source": [
        "### Q10. How can you append data to an existing file in Python?"
      ]
    },
    {
      "cell_type": "code",
      "execution_count": 13,
      "metadata": {},
      "outputs": [
        {
          "name": "stdout",
          "output_type": "stream",
          "text": [
            "Successfully appended to 'sample_lines.txt'\n",
            "\n",
            "--- Updated File Content ---\n",
            "First line of the file.\n",
            "Second line of the file.\n",
            "Third and final line.\n",
            "This is a new line appended to the file.\n",
            "\n"
          ]
        }
      ],
      "source": [
        "file_to_append = 'sample_lines.txt'\n",
        "new_content = \"This is a new line appended to the file.\\n\"\n",
        "\n",
        "try:\n",
        "    with open(file_to_append, 'a') as f:\n",
        "        f.write(new_content)\n",
        "    print(f\"Successfully appended to '{file_to_append}'\")\n",
        "except Exception as e:\n",
        "    print(f\"An error occurred: {e}\")\n",
        "\n",
        "# Let's check the file content now\n",
        "print(\"\\n--- Updated File Content ---\")\n",
        "with open(file_to_append, 'r') as f:\n",
        "    print(f.read())"
      ]
    },
    {
      "cell_type": "markdown",
      "metadata": {},
      "source": [
        "### Q11. Write a Python program that uses a try-except block to handle an error when attempting to access a dictionary key that doesn't exist."
      ]
    },
    {
      "cell_type": "code",
      "execution_count": 14,
      "metadata": {},
      "outputs": [
        {
          "name": "stdout",
          "output_type": "stream",
          "text": [
            "Dictionary: {'name': 'Alice', 'age': 30, 'city': 'New York'}\n",
            "Trying to access key: 'country'\n",
            "Error: The key 'country' does not exist in the dictionary.\n"
          ]
        }
      ],
      "source": [
        "my_dict = {'name': 'Alice', 'age': 30, 'city': 'New York'}\n",
        "key_to_find = 'country'\n",
        "\n",
        "print(f\"Dictionary: {my_dict}\")\n",
        "print(f\"Trying to access key: '{key_to_find}'\")\n",
        "\n",
        "try:\n",
        "    value = my_dict[key_to_find]\n",
        "    print(f\"The value of '{key_to_find}' is {value}\")\n",
        "except KeyError:\n",
        "    print(f\"Error: The key '{key_to_find}' does not exist in the dictionary.\")"
      ]
    },
    {
      "cell_type": "markdown",
      "metadata": {},
      "source": [
        "### Q12. Write a program that demonstrates using multiple except blocks to handle different types of exceptions."
      ]
    },
    {
      "cell_type": "code",
      "execution_count": 15,
      "metadata": {},
      "outputs": [
        {
          "name": "stdout",
          "output_type": "stream",
          "text": [
            "Invalid input! Please enter only integers.\n"
          ]
        }
      ],
      "source": [
        "try:\n",
        "    numerator = int(input(\"Enter a numerator: \"))\n",
        "    denominator = int(input(\"Enter a denominator: \"))\n",
        "    \n",
        "    result = numerator / denominator\n",
        "    print(f\"The result is {result}\")\n",
        "\n",
        "except ValueError:\n",
        "    print(\"Invalid input! Please enter only integers.\")\n",
        "except ZeroDivisionError:\n",
        "    print(\"Error! The denominator cannot be zero.\")\n",
        "except Exception as e:\n",
        "    print(f\"An unexpected error occurred: {e}\")"
      ]
    },
    {
      "cell_type": "markdown",
      "metadata": {},
      "source": [
        "### Q13. How would you check if a file exists before attempting to read it in Python?"
      ]
    },
    {
      "cell_type": "code",
      "execution_count": 16,
      "metadata": {},
      "outputs": [
        {
          "name": "stdout",
          "output_type": "stream",
          "text": [
            "The file 'sample_lines.txt' exists! Reading its content...\n",
            "First line of the file.\n",
            "Second line of the file.\n",
            "Third and final line.\n",
            "This is a new line appended to the file.\n",
            "\n",
            "--------------------\n",
            "The file 'i_dont_exist.txt' does not exist.\n"
          ]
        }
      ],
      "source": [
        "import os\n",
        "\n",
        "file_to_check = 'sample_lines.txt' # This one exists\n",
        "non_existent_file = 'i_dont_exist.txt' # This one doesn't\n",
        "\n",
        "if os.path.exists(file_to_check):\n",
        "    print(f\"The file '{file_to_check}' exists! Reading its content...\")\n",
        "    with open(file_to_check, 'r') as f:\n",
        "        print(f.read())\n",
        "else:\n",
        "    print(f\"The file '{file_to_check}' does not exist.\")\n",
        "\n",
        "print(\"-\"*20)\n",
        "\n",
        "if os.path.exists(non_existent_file):\n",
        "    print(f\"The file '{non_existent_file}' exists!\")\n",
        "else:\n",
        "    print(f\"The file '{non_existent_file}' does not exist.\")"
      ]
    },
    {
      "cell_type": "markdown",
      "metadata": {},
      "source": [
        "### Q14. Write a program that uses the logging module to log both informational and error messages."
      ]
    },
    {
      "cell_type": "code",
      "execution_count": 17,
      "metadata": {},
      "outputs": [
        {
          "name": "stdout",
          "output_type": "stream",
          "text": [
            "Process finished. Check 'app.log' for details.\n"
          ]
        }
      ],
      "source": [
        "import logging\n",
        "\n",
        "# Configure logging to a file\n",
        "log_file = 'app.log'\n",
        "logging.basicConfig(\n",
        "    filename=log_file,\n",
        "    level=logging.INFO,\n",
        "    format='%(asctime)s - %(levelname)s - %(message)s'\n",
        ")\n",
        "\n",
        "def process_data(data):\n",
        "    logging.info(f\"Starting to process data: {data}\")\n",
        "    try:\n",
        "        # Simulate a calculation that could fail\n",
        "        result = 100 / data\n",
        "        logging.info(f\"Processing successful. Result: {result}\")\n",
        "    except ZeroDivisionError:\n",
        "        logging.error(f\"Failed to process data. Division by zero for data: {data}\")\n",
        "\n",
        "# Run the process\n",
        "process_data(10)\n",
        "process_data(0)\n",
        "\n",
        "print(f\"Process finished. Check '{log_file}' for details.\")"
      ]
    },
    {
      "cell_type": "markdown",
      "metadata": {},
      "source": [
        "### Q15. Write a Python program that prints the content of a file and handles the case when the file is empty."
      ]
    },
    {
      "cell_type": "code",
      "execution_count": 18,
      "metadata": {},
      "outputs": [
        {
          "name": "stdout",
          "output_type": "stream",
          "text": [
            "The file 'empty.txt' is empty.\n",
            "--- Content of sample_lines.txt ---\n",
            "First line of the file.\n",
            "Second line of the file.\n",
            "Third and final line.\n",
            "This is a new line appended to the file.\n",
            "\n"
          ]
        }
      ],
      "source": [
        "# First, create an empty file\n",
        "empty_file = 'empty.txt'\n",
        "with open(empty_file, 'w') as f:\n",
        "    pass # Do nothing to keep it empty\n",
        "\n",
        "def read_and_check_empty(filepath):\n",
        "    try:\n",
        "        with open(filepath, 'r') as f:\n",
        "            content = f.read()\n",
        "            if not content:\n",
        "                print(f\"The file '{filepath}' is empty.\")\n",
        "            else:\n",
        "                print(f\"--- Content of {filepath} ---\")\n",
        "                print(content)\n",
        "    except FileNotFoundError:\n",
        "        print(f\"Error: The file '{filepath}' was not found.\")\n",
        "\n",
        "# Test with the empty file\n",
        "read_and_check_empty(empty_file)\n",
        "\n",
        "# Test with a non-empty file\n",
        "read_and_check_empty('sample_lines.txt')"
      ]
    },
    {
      "cell_type": "markdown",
      "metadata": {},
      "source": [
        "### Q16. Demonstrate how to use memory profiling to check the memory usage of a small program."
      ]
    },
    {
      "cell_type": "code",
      "execution_count": 19,
      "metadata": {},
      "outputs": [
        {
          "name": "stdout",
          "output_type": "stream",
          "text": [
            "Requirement already satisfied: memory_profiler in c:\\users\\vishal\\appdata\\local\\programs\\python\\python313\\lib\\site-packages (0.61.0)\n",
            "Requirement already satisfied: psutil in c:\\users\\vishal\\appdata\\roaming\\python\\python313\\site-packages (from memory_profiler) (7.0.0)\n",
            "Note: you may need to restart the kernel to use updated packages.\n",
            "Starting memory profiling demonstration...\n",
            "ERROR: Could not find file C:\\Users\\Vishal\\AppData\\Local\\Temp\\ipykernel_12508\\262277512.py\n",
            "Finished. Check the command line output for memory usage details.\n"
          ]
        }
      ],
      "source": [
        "# This code should be saved in a .py file, for example, 'profile_me.py'\n",
        "# Then run from the terminal: python -m memory_profiler profile_me.py\n",
        "\n",
        "%pip install memory_profiler\n",
        "\n",
        "from memory_profiler import profile\n",
        "\n",
        "@profile\n",
        "def create_large_list():\n",
        "    \"\"\"This function creates a large list to consume memory.\"\"\"\n",
        "    my_list = [i for i in range(1000000)] # One million integers\n",
        "    return my_list\n",
        "\n",
        "if __name__ == '__main__':\n",
        "    print(\"Starting memory profiling demonstration...\")\n",
        "    large_list = create_large_list()\n",
        "    print(\"Finished. Check the command line output for memory usage details.\")"
      ]
    },
    {
      "cell_type": "markdown",
      "metadata": {},
      "source": [
        "### Q17. Write a Python program to create and write a list of numbers to a file, one number per line."
      ]
    },
    {
      "cell_type": "code",
      "execution_count": 20,
      "metadata": {},
      "outputs": [
        {
          "name": "stdout",
          "output_type": "stream",
          "text": [
            "Successfully wrote numbers to 'numbers.txt'\n",
            "\n",
            "--- File Content ---\n",
            "10\n",
            "25\n",
            "42\n",
            "100\n",
            "55\n",
            "\n"
          ]
        }
      ],
      "source": [
        "numbers = [10, 25, 42, 100, 55]\n",
        "output_file = 'numbers.txt'\n",
        "\n",
        "try:\n",
        "    with open(output_file, 'w') as f:\n",
        "        for num in numbers:\n",
        "            f.write(str(num) + '\\n')\n",
        "    print(f\"Successfully wrote numbers to '{output_file}'\")\n",
        "except Exception as e:\n",
        "    print(f\"An error occurred: {e}\")\n",
        "\n",
        "# Verify the content\n",
        "print(\"\\n--- File Content ---\")\n",
        "with open(output_file, 'r') as f:\n",
        "    print(f.read())"
      ]
    },
    {
      "cell_type": "markdown",
      "metadata": {},
      "source": [
        "### Q18. How would you implement a basic logging setup that logs to a file with rotation after 1MB?"
      ]
    },
    {
      "cell_type": "code",
      "execution_count": 21,
      "metadata": {},
      "outputs": [
        {
          "name": "stdout",
          "output_type": "stream",
          "text": [
            "Logging is set up. Check 'rotating_app.log'.\n"
          ]
        }
      ],
      "source": [
        "import logging\n",
        "from logging.handlers import RotatingFileHandler\n",
        "import time\n",
        "\n",
        "log_file = 'rotating_app.log'\n",
        "\n",
        "# Create a logger\n",
        "logger = logging.getLogger('MyRotatingLogger')\n",
        "logger.setLevel(logging.INFO)\n",
        "\n",
        "# Create a rotating file handler\n",
        "# 1MB = 1024 * 1024 bytes\n",
        "handler = RotatingFileHandler(log_file, maxBytes=1024*1024, backupCount=3)\n",
        "\n",
        "# Create a log format\n",
        "formatter = logging.Formatter('%(asctime)s - %(name)s - %(levelname)s - %(message)s')\n",
        "handler.setFormatter(formatter)\n",
        "\n",
        "# Add the handler to the logger\n",
        "logger.addHandler(handler)\n",
        "\n",
        "logger.info(\"Log rotation setup complete.\")\n",
        "logger.warning(\"This logger will create a new file if the log exceeds 1MB.\")\n",
        "\n",
        "print(f\"Logging is set up. Check '{log_file}'.\")\n",
        "\n",
        "# To test this, you would need to write over 1MB of logs.\n",
        "# for i in range(100000):\n",
        "#     logger.info(f\"This is log message number {i}\")"
      ]
    },
    {
      "cell_type": "markdown",
      "metadata": {},
      "source": [
        "### Q19. Write a program that handles both `IndexError` and `KeyError` using a try-except block."
      ]
    },
    {
      "cell_type": "code",
      "execution_count": 22,
      "metadata": {},
      "outputs": [
        {
          "name": "stdout",
          "output_type": "stream",
          "text": [
            "Accessing list element at index 5...\n",
            "Caught an error: The index or key does not exist. Details: list index out of range\n",
            "--------------------\n",
            "Accessing dictionary element with key 'c'...\n",
            "Caught an error: The index or key does not exist. Details: 'c'\n"
          ]
        }
      ],
      "source": [
        "my_list = [1, 2, 3]\n",
        "my_dict = {'a': 1, 'b': 2}\n",
        "\n",
        "# --- Test Case 1: IndexError ---\n",
        "try:\n",
        "    print(\"Accessing list element at index 5...\")\n",
        "    value = my_list[5]\n",
        "    print(value)\n",
        "except (IndexError, KeyError) as e:\n",
        "    print(f\"Caught an error: The index or key does not exist. Details: {e}\")\n",
        "\n",
        "print(\"-\"*20)\n",
        "\n",
        "# --- Test Case 2: KeyError ---\n",
        "try:\n",
        "    print(\"Accessing dictionary element with key 'c'...\")\n",
        "    value = my_dict['c']\n",
        "    print(value)\n",
        "except (IndexError, KeyError) as e:\n",
        "    print(f\"Caught an error: The index or key does not exist. Details: {e}\")"
      ]
    },
    {
      "cell_type": "markdown",
      "metadata": {},
      "source": [
        "### Q20. How would you open a file and read its contents using a context manager in Python?"
      ]
    },
    {
      "cell_type": "code",
      "execution_count": 23,
      "metadata": {},
      "outputs": [
        {
          "name": "stdout",
          "output_type": "stream",
          "text": [
            "Reading 'sample_lines.txt' using a context manager (with statement)...\n",
            "--- File Content ---\n",
            "First line of the file.\n",
            "Second line of the file.\n",
            "Third and final line.\n",
            "This is a new line appended to the file.\n",
            "\n"
          ]
        }
      ],
      "source": [
        "file_path = 'sample_lines.txt'\n",
        "\n",
        "print(f\"Reading '{file_path}' using a context manager (with statement)...\")\n",
        "\n",
        "try:\n",
        "    # The 'with' statement creates the context manager\n",
        "    with open(file_path, 'r') as f:\n",
        "        content = f.read()\n",
        "        print(\"--- File Content ---\")\n",
        "        print(content)\n",
        "    # The file f is automatically closed here\n",
        "\n",
        "except FileNotFoundError:\n",
        "    print(f\"Error: The file '{file_path}' could not be found.\")"
      ]
    },
    {
      "cell_type": "markdown",
      "metadata": {},
      "source": [
        "### Q21. Write a Python program that reads a file and prints the number of occurrences of a specific word."
      ]
    },
    {
      "cell_type": "code",
      "execution_count": 24,
      "metadata": {},
      "outputs": [
        {
          "name": "stdout",
          "output_type": "stream",
          "text": [
            "The word 'python' appears 3 times in the file.\n"
          ]
        }
      ],
      "source": [
        "# Step 1: Create a file with some text\n",
        "text_file = 'word_count_sample.txt'\n",
        "content = \"Python is a great language. I love to code in python. The python community is amazing.\"\n",
        "with open(text_file, 'w') as f:\n",
        "    f.write(content)\n",
        "\n",
        "# Step 2: Read the file and count the word\n",
        "word_to_find = 'python'\n",
        "count = 0\n",
        "\n",
        "try:\n",
        "    with open(text_file, 'r') as f:\n",
        "        file_content = f.read()\n",
        "        # Make it case-insensitive\n",
        "        count = file_content.lower().count(word_to_find.lower())\n",
        "    \n",
        "    print(f\"The word '{word_to_find}' appears {count} times in the file.\")\n",
        "\n",
        "except FileNotFoundError:\n",
        "    print(f\"Error: The file '{text_file}' was not found.\")"
      ]
    },
    {
      "cell_type": "markdown",
      "metadata": {},
      "source": [
        "### Q22. How can you check if a file is empty before attempting to read its contents?"
      ]
    },
    {
      "cell_type": "code",
      "execution_count": 25,
      "metadata": {},
      "outputs": [
        {
          "name": "stdout",
          "output_type": "stream",
          "text": [
            "The file 'empty.txt' is empty.\n",
            "The file 'sample_lines.txt' is not empty. Its size is 116 bytes.\n"
          ]
        }
      ],
      "source": [
        "import os\n",
        "\n",
        "# Using the empty file from Q15\n",
        "empty_file = 'empty.txt'\n",
        "non_empty_file = 'sample_lines.txt'\n",
        "\n",
        "def check_if_empty(filepath):\n",
        "    try:\n",
        "        if os.path.getsize(filepath) == 0:\n",
        "            print(f\"The file '{filepath}' is empty.\")\n",
        "        else:\n",
        "            print(f\"The file '{filepath}' is not empty. Its size is {os.path.getsize(filepath)} bytes.\")\n",
        "    except FileNotFoundError:\n",
        "        print(f\"The file '{filepath}' does not exist.\")\n",
        "\n",
        "# Test cases\n",
        "check_if_empty(empty_file)\n",
        "check_if_empty(non_empty_file)"
      ]
    },
    {
      "cell_type": "markdown",
      "metadata": {},
      "source": [
        "### Q23. Write a Python program that writes to a log file when an error occurs during file handling."
      ]
    },
    {
      "cell_type": "code",
      "execution_count": 26,
      "metadata": {},
      "outputs": [
        {
          "name": "stdout",
          "output_type": "stream",
          "text": [
            "An error occurred. Details have been written to 'file_handling.log'\n"
          ]
        }
      ],
      "source": [
        "import logging\n",
        "\n",
        "# Setup logging\n",
        "logging.basicConfig(\n",
        "    filename='file_handling.log',\n",
        "    level=logging.ERROR,\n",
        "    format='%(asctime)s - %(levelname)s - %(message)s'\n",
        ")\n",
        "\n",
        "def read_a_tricky_file(filepath):\n",
        "    try:\n",
        "        with open(filepath, 'r') as f:\n",
        "            print(\"File read successfully!\")\n",
        "            return f.read()\n",
        "    except FileNotFoundError:\n",
        "        # logging.exception is useful because it includes stack trace info\n",
        "        logging.exception(f\"Failed to open file at path: {filepath}\")\n",
        "        print(f\"An error occurred. Details have been written to 'file_handling.log'\")\n",
        "        return None\n",
        "\n",
        "# Let's try to read a file that doesn't exist\n",
        "read_a_tricky_file('this_is_not_a_real_file.txt')"
      ]
    }
  ],
  "metadata": {
    "kernelspec": {
      "display_name": "Python 3",
      "language": "python",
      "name": "python3"
    },
    "language_info": {
      "codemirror_mode": {
        "name": "ipython",
        "version": 3
      },
      "file_extension": ".py",
      "mimetype": "text/x-python",
      "name": "python",
      "nbconvert_exporter": "python",
      "pygments_lexer": "ipython3",
      "version": "3.13.7"
    }
  },
  "nbformat": 4,
  "nbformat_minor": 5
}
