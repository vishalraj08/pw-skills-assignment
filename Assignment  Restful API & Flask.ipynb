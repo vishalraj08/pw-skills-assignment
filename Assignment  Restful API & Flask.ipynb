{
  "cells": [
    {
      "cell_type": "markdown",
      "metadata": {},
      "source": [
        "# 👩‍💻 RESTful API & Flask Assignment Solutions\n",
        "\n",
        "Welcome! This notebook provides comprehensive answers and code examples for the RESTful API and Flask assignment. The structure is divided into two main parts: Conceptual Questions and Practical Implementation.\n",
        "\n",
        "---"
      ]
    },
    {
      "cell_type": "markdown",
      "metadata": {},
      "source": [
        "## Part 1: Conceptual Assignment Questions (Theory)\n",
        "This section covers the fundamental concepts of REST, APIs, and the Flask framework based on the assignment questions."
      ]
    },
    {
      "cell_type": "markdown",
      "metadata": {},
      "source": [
        "### 1. What is a RESTful API?\n",
        "\n",
        "A **RESTful API** (Representational State Transfer) is an architectural style for designing networked applications. It uses standard HTTP methods (like GET, POST, PUT, DELETE) to interact with **resources** (e.g., users, posts, products) identified by unique URIs (Uniform Resource Identifiers). The primary principles include **statelessness** and a **uniform interface**, making the communication predictable and scalable."
      ]
    },
    {
      "cell_type": "markdown",
      "metadata": {},
      "source": [
        "### 2. Explain the concept of API specification.\n",
        "\n",
        "An **API Specification** (or API documentation) is essentially a **contract** that clearly describes the functionality of a web service. It details all available endpoints, the required HTTP methods, expected input parameters (in the request body, query, or path), and the format of the response data (including successful payloads and error messages). Popular standards like **OpenAPI (Swagger)** help enforce this contract for both developers consuming and maintaining the API."
      ]
    },
    {
      "cell_type": "markdown",
      "metadata": {},
      "source": [
        "### 3. What is Flask, and why is it popular for building APIs?\n",
        "\n",
        "**Flask** is a **lightweight Python web framework**, often called a \"micro-framework\" because it starts with a minimal core: routing, request handling, and templating. It's popular for building APIs due to its:\n",
        "* **Minimalism & Flexibility:** It doesn't impose a strict structure or force dependencies, letting developers choose their own libraries (e.g., for database, authentication, or serialization).\n",
        "* **Simplicity:** It has a simple, explicit structure and a low barrier to entry, enabling rapid development of clean, focused APIs.\n",
        "* **Extensibility:** Its functionality is easily extended through numerous community-maintained **extensions** (like Flask-RESTful, Flask-SQLAlchemy)."
      ]
    },
    {
      "cell_type": "markdown",
      "metadata": {},
      "source": [
        "### 4. What is routing in Flask?\n",
        "\n",
        "**Routing** is the process in Flask that **maps a URL path** requested by a client (e.g., `/api/users`) to a specific **Python function** defined in the application (the *view function*). This is primarily done using the `@app.route()` decorator."
      ]
    },
    {
      "cell_type": "markdown",
      "metadata": {},
      "source": [
        "### 5. How do you create a simple Flask application?\n",
        "\n",
        "A simple Flask app requires importing the `Flask` class, creating an instance, and defining at least one route with a view function."
      ]
    },
    {
      "cell_type": "code",
      "execution_count": null,
      "metadata": {},
      "outputs": [],
      "source": [
        "# simple_app.py\n",
        "from flask import Flask\n",
        "\n",
        "app = Flask(__name__)\n",
        "\n",
        "@app.route('/')\n",
        "def home():\n",
        "    \"\"\"Route for the application root.\"\"\"\n",
        "    return 'Welcome to the Simple Flask API! (Running on http://127.0.0.1:5000)'\n",
        "\n",
        "# To run the app (in a real terminal):\n",
        "# if __name__ == '__main__':\n",
        "#     app.run(debug=True)"
      ]
    },
    {
      "cell_type": "markdown",
      "metadata": {},
      "source": [
        "### 6. What are HTTP methods used in RESTful APIs?\n",
        "\n",
        "HTTP methods (or verbs) define the **action** to be performed on the resource:\n",
        "* **GET:** Retrieve data (Read). Safe and Idempotent.\n",
        "* **POST:** Create new data (Create). Not safe, not idempotent.\n",
        "* **PUT:** Update an existing resource completely (Update). Idempotent.\n",
        "* **PATCH:** Apply partial modifications to a resource (Update). Not idempotent.\n",
        "* **DELETE:** Remove a specified resource (Delete). Idempotent."
      ]
    },
    {
      "cell_type": "markdown",
      "metadata": {},
      "source": [
        "### 7. What is the purpose of the `@app.route()` decorator in Flask?\n",
        "\n",
        "The `@app.route()` decorator is used to **bind a URL** to a specific Python function (the view function). When a client requests that URL, Flask knows which function to execute. It can also specify the allowed HTTP methods using the `methods` argument (e.g., `methods=['GET', 'POST']`)."
      ]
    },
    {
      "cell_type": "markdown",
      "metadata": {},
      "source": [
        "### 8. What is the difference between GET and POST HTTP methods?\n",
        "\n",
        "| Feature | GET | POST |\n",
        "| :--- | :--- | :--- |\n",
        "| **Purpose** | Retrieve (Read) data. | Submit/Create (Create) new data. |\n",
        "| **Body/Payload** | Should not contain a body; data is in the query string. | Contains the data to be sent (request body/payload). |\n",
        "| **Safety** | **Safe** (should not modify server state). | **Not Safe** (modifies server state by creating data). |\n",
        "| **Idempotence** | **Idempotent** (repeated requests have the same outcome). | **Not Idempotent** (repeated requests usually create multiple resources). |"
      ]
    },
    {
      "cell_type": "markdown",
      "metadata": {},
      "source": [
        "### 9. How do you handle errors in Flask APIs?\n",
        "\n",
        "Errors are handled using the **`@app.errorhandler(status_code)`** decorator. For APIs, the handler should return a **JSON response** with a descriptive message and the correct HTTP status code."
      ]
    },
    {
      "cell_type": "code",
      "execution_count": null,
      "metadata": {},
      "outputs": [],
      "source": [
        "from flask import Flask, jsonify\n",
        "app = Flask(__name__)\n",
        "\n",
        "@app.errorhandler(404)\n",
        "def not_found_error(error):\n",
        "    # Returns a JSON error response with a 404 status code\n",
        "    return jsonify({\n",
        "        'status': 404,\n",
        "        'error': 'Not Found',\n",
        "        'message': 'The requested URL was not found on the server.'\n",
        "    }), 404"
      ]
    },
    {
      "cell_type": "markdown",
      "metadata": {},
      "source": [
        "### 10. How do you connect Flask to a SQL database?\n",
        "\n",
        "The standard way is to use the **Flask-SQLAlchemy** extension. This integrates the powerful SQLAlchemy ORM (Object-Relational Mapper) with Flask, simplifying configuration and database session management."
      ]
    },
    {
      "cell_type": "markdown",
      "metadata": {},
      "source": [
        "### 11. What is the role of Flask-SQLAlchemy?\n",
        "\n",
        "**Flask-SQLAlchemy** manages the integration of the SQLAlchemy ORM into a Flask application. Its main roles are:\n",
        "* **Configuration:** Automatically handles the setup and configuration of the database engine using Flask's config.\n",
        "* **Model Definition:** Allows defining database tables as Python classes (models).\n",
        "* **Session Management:** Correctly manages the database session lifecycle during a request (opening, committing, and closing connections)."
      ]
    },
    {
      "cell_type": "markdown",
      "metadata": {},
      "source": [
        "### 12. What are Flask blueprints, and how are they useful?\n",
        "\n",
        "**Flask Blueprints** are a way to organize a Flask application into smaller, reusable, and modular components. They act as a template for application sections (e.g., an `/admin` module, a `/users` API, or an `/auth` system).\n",
        "* **Usefulness:** They promote **separation of concerns** and **code reusability**, preventing the main application file from becoming too large in complex projects."
      ]
    },
    {
      "cell_type": "markdown",
      "metadata": {},
      "source": [
        "### 13. What is the purpose of Flask's `request` object?\n",
        "\n",
        "The **`request` object** is a global object that holds all the **incoming data** for the current client request. It allows view functions to access:\n",
        "* `request.method`: The HTTP method used (GET, POST).\n",
        "* `request.args`: Query string parameters (e.g., `?limit=10`).\n",
        "* `request.form`: Form data (for POST requests).\n",
        "* `request.json`: Incoming JSON payload (crucial for APIs).\n",
        "* `request.headers`: HTTP headers."
      ]
    },
    {
      "cell_type": "markdown",
      "metadata": {},
      "source": [
        "### 14. How do you create a RESTful API endpoint using Flask?\n",
        "\n",
        "Define a view function and use `@app.route()`, specifying the resource path and the allowed `methods`. Use `request.json` to read the input data and `jsonify()` to return structured data."
      ]
    },
    {
      "cell_type": "code",
      "execution_count": null,
      "metadata": {},
      "outputs": [],
      "source": [
        "from flask import request, jsonify\n",
        "# ... app instance setup ...\n",
        "\n",
        "@app.route('/api/users', methods=['POST'])\n",
        "def create_user():\n",
        "    if request.is_json:\n",
        "        user_data = request.json\n",
        "        # In a real app: save user_data to database\n",
        "        return jsonify({'message': 'User created successfully', 'id': 101, 'data': user_data}), 201\n",
        "    return jsonify({'error': 'Invalid content type'}), 400"
      ]
    },
    {
      "cell_type": "markdown",
      "metadata": {},
      "source": [
        "### 15. What is the purpose of Flask's `jsonify()` function?\n",
        "\n",
        "The **`jsonify()`** function is a helper in Flask used to create a proper **JSON response**. It does two key things:\n",
        "1.  **Serialization:** Converts the Python dictionary, list, or other object into a JSON formatted string.\n",
        "2.  **Headers:** Sets the `Content-Type` header of the HTTP response to `application/json`, ensuring the client knows the data format."
      ]
    },
    {
      "cell_type": "markdown",
      "metadata": {},
      "source": [
        "### 16. Explain Flask's `url_for()` function.\n",
        "\n",
        "The **`url_for()`** function is used to **dynamically build a URL** for a specific view function. It takes the function name as the first argument and any variable parts of the URL as keyword arguments.\n",
        "* **Benefit:** It avoids hardcoding URLs. If you change the URL path in the `@app.route()` decorator, `url_for()` automatically generates the correct path elsewhere, making the code more robust."
      ]
    },
    {
      "cell_type": "markdown",
      "metadata": {},
      "source": [
        "### 17. How does Flask handle static files (CSS, JavaScript, etc.)?\n",
        "\n",
        "Flask, by convention, looks for static files (CSS, JS, images) in a folder named **`static`** located in the root of the application directory. You can generate the URL for these files using the `url_for()` function with the special endpoint name `'static'`."
      ]
    },
    {
      "cell_type": "markdown",
      "metadata": {},
      "source": [
        "### 18. What is an API specification, and how does it help in building a Flask API?\n",
        "\n",
        "*(This is similar to question 2, offering a slightly different focus on the benefit.)*\n",
        "An API specification (like OpenAPI) defines the public interface of the API. It helps in building a Flask API by:\n",
        "* **Design First:** Forcing developers to define the API contract *before* coding, leading to better, more consistent design.\n",
        "* **Testing:** Allowing the generation of mock servers or automated test cases directly from the specification.\n",
        "* **Documentation:** Providing immediate, up-to-date documentation for consumers (front-end developers, partners)."
      ]
    },
    {
      "cell_type": "markdown",
      "metadata": {},
      "source": [
        "### 19. What are HTTP status codes, and why are they important in a Flask API?\n",
        "\n",
        "**HTTP Status Codes** are three-digit numbers returned by the server in the response header that indicate the outcome and status of the request. They are vital in a Flask API because they:\n",
        "* **Signal Success/Failure:** They tell the client immediately whether their request succeeded (2xx), failed due to the client (4xx), or failed due to the server (5xx).\n",
        "* **Standardization:** They use a universally understood system, ensuring clients (like web browsers or mobile apps) can interpret the API's response correctly.\n",
        "* *Examples: `200 OK`, `201 Created`, `404 Not Found`, `500 Internal Server Error`.*"
      ]
    },
    {
      "cell_type": "markdown",
      "metadata": {},
      "source": [
        "### 20. How do you handle POST requests in Flask?\n",
        "\n",
        "1.  Specify `methods=['POST']` in the `@app.route()` decorator.\n",
        "2.  Inside the view function, check `if request.method == 'POST'` (optional, but good practice if handling multiple methods).\n",
        "3.  Retrieve data using **`request.form`** (for form submissions) or **`request.json`** (for JSON API payloads).\n",
        "4.  Return a response, typically with a `201 Created` status code."
      ]
    },
    {
      "cell_type": "markdown",
      "metadata": {},
      "source": [
        "### 21. How would you secure a Flask API?\n",
        "\n",
        "Key security measures include:\n",
        "* **Authentication:** Use **Token-Based Authentication** (like JWTs) instead of sessions for REST APIs.\n",
        "* **Authorization:** Implement access control checks to ensure users only access resources they are permitted to see.\n",
        "* **HTTPS:** Enforce SSL/TLS encryption for all traffic.\n",
        "* **Input Validation:** Sanitize and validate all user inputs to prevent **SQL Injection** and **XSS** (Cross-Site Scripting) attacks.\n",
        "* **CORS:** Properly configure **CORS** (Cross-Origin Resource Sharing) headers to only allow trusted domains to access the API."
      ]
    },
    {
      "cell_type": "markdown",
      "metadata": {},
      "source": [
        "### 22. What is the significance of the Flask-RESTful extension?\n",
        "\n",
        "**Flask-RESTful** is an extension that simplifies the process of building REST APIs in Flask. It is significant because it:\n",
        "* **Resource Abstraction:** Provides a **`Resource`** class that maps HTTP methods (GET, POST, etc.) to class methods, making the code cleaner and more strictly RESTful.\n",
        "* **Simplified Routing:** Uses a custom way to add resources, often simplifying routing for large numbers of endpoints.\n",
        "* **Marshaling/Serialization:** Helps with data formatting and validation."
      ]
    },
    {
      "cell_type": "markdown",
      "metadata": {},
      "source": [
        "### 23. What is the role of Flask's session object?\n",
        "\n",
        "Flask's **session object** is a dictionary used to store **user-specific information** that needs to persist between different requests. The data is typically stored in a **signed cookie** on the client's browser, protected by a secret key. It is essential for managing user login status or temporary state in traditional web applications, though it's less common (or replaced by tokens) in pure REST APIs."
      ]
    },
    {
      "cell_type": "markdown",
      "metadata": {},
      "source": [
        "---\n",
        "## Part 2: Practical\n"
      ]
    },
    {
      "cell_type": "markdown",
      "metadata": {},
      "source": [
        "### 1. How do you create a basic Flask application?\n",
        "\n"
      ]
    },
    {
      "cell_type": "code",
      "execution_count": 24,
      "id": "740c6eaf",
      "metadata": {},
      "outputs": [],
      "source": [
        "# simple_app.py\n",
        "from flask import Flask\n",
        "\n",
        "app = Flask(__name__)\n",
        "\n",
        "@app.route('/')\n",
        "def home():\n",
        "    \"\"\"Route for the application root.\"\"\"\n",
        "    return 'Welcome to the Simple Flask API! (Running on http://127.0.0.1:5000)'\n",
        "\n",
        "# To run the app (in a real terminal):\n",
        "# if __name__ == '__main__':\n",
        "#     app.run(debug=True)"
      ]
    },
    {
      "cell_type": "markdown",
      "metadata": {},
      "source": [
        "### 2. How do you serve static files like images or CSS in Flask?\n",
        "\n",
        "Flask automatically serves files from a directory named **`static`** in the application root. We use **`url_for('static', filename='...')`** to generate the correct path in HTML templates."
      ]
    },
    {
      "cell_type": "code",
      "execution_count": 23,
      "metadata": {},
      "outputs": [
        {
          "name": "stdout",
          "output_type": "stream",
          "text": [
            "Static file resolution example:\n",
            "\n",
            "\n",
            "<link rel=\"stylesheet\" href=\"{{ url_for('static', filename='css/style.css') }}\">\n",
            "\n",
            "\n"
          ]
        }
      ],
      "source": [
        "# Example usage in a (hypothetical) template:\n",
        "STATIC_FILE_USAGE = \"\"\"\n",
        "\n",
        "<link rel=\"stylesheet\" href=\"{{ url_for('static', filename='css/style.css') }}\">\n",
        "\n",
        "\"\"\"\n",
        "print(\"Static file resolution example:\")\n",
        "print(STATIC_FILE_USAGE)"
      ]
    },
    {
      "cell_type": "markdown",
      "metadata": {},
      "source": [
        "### 3. How do you define different routes with different HTTP methods in Flask?\n",
        "\n",
        "Use the `methods` argument in the `@app.route()` decorator to specify the allowed methods for a single view function that handles a resource."
      ]
    },
    {
      "cell_type": "code",
      "execution_count": 22,
      "metadata": {},
      "outputs": [
        {
          "name": "stdout",
          "output_type": "stream",
          "text": [
            "Route '/items' configured for both GET (Read) and POST (Create) methods.\n"
          ]
        }
      ],
      "source": [
        "TEMP_DB = [{'id': 1, 'name': 'Item A'}]\n",
        "\n",
        "@app.route('/items', methods=['GET', 'POST'])\n",
        "def item_handler():\n",
        "    if request.method == 'GET':\n",
        "        return jsonify({'items': TEMP_DB})\n",
        "    elif request.method == 'POST':\n",
        "        new_item = request.json\n",
        "        new_item['id'] = len(TEMP_DB) + 1\n",
        "        TEMP_DB.append(new_item)\n",
        "        return jsonify({'message': 'Item added', 'item': new_item}), 201\n",
        "\n",
        "print(\"Route '/items' configured for both GET (Read) and POST (Create) methods.\")"
      ]
    },
    {
      "cell_type": "markdown",
      "metadata": {},
      "source": [
        "### 4. How do you render HTML templates in Flask?\n",
        "\n",
        "Use the **`render_template()`** function. Flask automatically looks for HTML files in a directory named **`templates`** in the application root."
      ]
    },
    {
      "cell_type": "code",
      "execution_count": 21,
      "metadata": {},
      "outputs": [
        {
          "name": "stdout",
          "output_type": "stream",
          "text": [
            "The 'render_template()' function uses Jinja2 to render HTML files from the 'templates' folder.\n"
          ]
        }
      ],
      "source": [
        "# You would need a file named 'index.html' inside a 'templates' folder.\n",
        "\n",
        "# @app.route('/html')\n",
        "# def render_html_page():\n",
        "#     # Passing a variable to the template (Jinja2 context)\n",
        "#     user = {'username': 'AssignmentSolver'}\n",
        "#     return render_template('index.html', user=user)\n",
        "\n",
        "print(\"The 'render_template()' function uses Jinja2 to render HTML files from the 'templates' folder.\")"
      ]
    },
    {
      "cell_type": "markdown",
      "metadata": {},
      "source": [
        "### 5. How can you generate URLs for routes in Flask using `url_for`?\n",
        "\n",
        "`url_for()` takes the view function name and any necessary URL parameters."
      ]
    },
    {
      "cell_type": "code",
      "execution_count": 19,
      "metadata": {},
      "outputs": [
        {
          "name": "stdout",
          "output_type": "stream",
          "text": [
            "URL for 'item_handler': /items\n",
            "URL for 'user_profile_page_demo' (with param): /profile/alex_codes\n"
          ]
        }
      ],
      "source": [
        "from flask import url_for\n",
        "\n",
        "@app.route('/profile/<username>')\n",
        "def user_profile_page_demo(username):\n",
        "    return f'Welcome, {username}'\n",
        "\n",
        "# Example of URL generation (requires application context, simulating here):\n",
        "with app.test_request_context():\n",
        "    # 1. Simple route URL\n",
        "    home_url = url_for('item_handler') # Uses function name from Q3\n",
        "    # 2. Route with a parameter\n",
        "    profile_url = url_for('user_profile_page_demo', username='alex_codes')\n",
        "    \n",
        "    print(f\"URL for 'item_handler': {home_url}\")\n",
        "    print(f\"URL for 'user_profile_page_demo' (with param): {profile_url}\")"
      ]
    },
    {
      "cell_type": "markdown",
      "metadata": {},
      "source": [
        "### 6. How do you handle forms in Flask?\n",
        "\n"
      ]
    },
    {
      "cell_type": "code",
      "execution_count": 5,
      "metadata": {},
      "outputs": [
        {
          "name": "stdout",
          "output_type": "stream",
          "text": [
            " * Serving Flask app '__main__'\n",
            " * Debug mode: on\n"
          ]
        },
        {
          "name": "stderr",
          "output_type": "stream",
          "text": [
            "WARNING: This is a development server. Do not use it in a production deployment. Use a production WSGI server instead.\n",
            " * Running on http://127.0.0.1:5000\n",
            "Press CTRL+C to quit\n",
            " * Restarting with watchdog (windowsapi)\n"
          ]
        },
        {
          "ename": "SystemExit",
          "evalue": "1",
          "output_type": "error",
          "traceback": [
            "An exception has occurred, use %tb to see the full traceback.\n",
            "\u001b[1;31mSystemExit\u001b[0m\u001b[1;31m:\u001b[0m 1\n"
          ]
        },
        {
          "name": "stderr",
          "output_type": "stream",
          "text": [
            "c:\\Users\\vishal\\anaconda3\\Lib\\site-packages\\IPython\\core\\interactiveshell.py:3585: UserWarning: To exit: use 'exit', 'quit', or Ctrl-D.\n",
            "  warn(\"To exit: use 'exit', 'quit', or Ctrl-D.\", stacklevel=1)\n"
          ]
        }
      ],
      "source": [
        "from flask import Flask, render_template_string, request\n",
        "\n",
        "app = Flask(__name__)\n",
        "\n",
        "# Simple HTML form using Jinja2 template\n",
        "form_html = \"\"\"\n",
        "<!doctype html>\n",
        "<html>\n",
        "<head><title>Flask Form Example</title></head>\n",
        "<body>\n",
        "  <h2>Submit Your Name</h2>\n",
        "  <form method=\"POST\">\n",
        "    <input type=\"text\" name=\"username\" placeholder=\"Enter your name\" required>\n",
        "    <button type=\"submit\">Submit</button>\n",
        "  </form>\n",
        "\n",
        "  {% if name %}\n",
        "    <h3>Hello, {{ name }}!</h3>\n",
        "  {% endif %}\n",
        "</body>\n",
        "</html>\n",
        "\"\"\"\n",
        "\n",
        "@app.route(\"/\", methods=[\"GET\", \"POST\"])\n",
        "def index():\n",
        "    name = None\n",
        "    if request.method == \"POST\":\n",
        "        name = request.form.get(\"username\")  # get value from form\n",
        "    return render_template_string(form_html, name=name)\n",
        "\n",
        "if __name__ == \"__main__\":\n",
        "    app.run(debug=True)\n"
      ]
    },
    {
      "cell_type": "markdown",
      "metadata": {},
      "source": [
        "### 7. How can you validate form data in Flask?\n",
        "\n"
      ]
    },
    {
      "cell_type": "code",
      "execution_count": 3,
      "id": "3fb32563",
      "metadata": {},
      "outputs": [
        {
          "name": "stdout",
          "output_type": "stream",
          "text": [
            " * Serving Flask app '__main__'\n",
            " * Debug mode: on\n"
          ]
        },
        {
          "name": "stderr",
          "output_type": "stream",
          "text": [
            "WARNING: This is a development server. Do not use it in a production deployment. Use a production WSGI server instead.\n",
            " * Running on http://127.0.0.1:5000\n",
            "Press CTRL+C to quit\n",
            " * Restarting with watchdog (windowsapi)\n"
          ]
        },
        {
          "ename": "SystemExit",
          "evalue": "1",
          "output_type": "error",
          "traceback": [
            "An exception has occurred, use %tb to see the full traceback.\n",
            "\u001b[1;31mSystemExit\u001b[0m\u001b[1;31m:\u001b[0m 1\n"
          ]
        }
      ],
      "source": [
        "from flask import Flask, request, render_template_string\n",
        "import re\n",
        "\n",
        "app = Flask(__name__)\n",
        "\n",
        "@app.route(\"/\", methods=[\"GET\", \"POST\"])\n",
        "def register():\n",
        "    errors = []\n",
        "    if request.method == \"POST\":\n",
        "        username = request.form.get(\"username\", \"\").strip()\n",
        "        email = request.form.get(\"email\", \"\").strip()\n",
        "        password = request.form.get(\"password\", \"\").strip()\n",
        "\n",
        "        # Username validation\n",
        "        if not username or len(username) < 3:\n",
        "            errors.append(\"Username must be at least 3 characters.\")\n",
        "\n",
        "        # Email validation (simple regex check)\n",
        "        if not re.match(r\"[^@]+@[^@]+\\.[^@]+\", email):\n",
        "            errors.append(\"Invalid email address.\")\n",
        "\n",
        "        # Password validation\n",
        "        if len(password) < 6:\n",
        "            errors.append(\"Password must be at least 6 characters.\")\n",
        "\n",
        "        if not errors:\n",
        "            return f\"✅ Registration successful! Welcome, {username}.\"\n",
        "\n",
        "    return render_template_string('''\n",
        "        <h2>Register</h2>\n",
        "        <form method=\"post\">\n",
        "            Username: <input type=\"text\" name=\"username\"><br>\n",
        "            Email: <input type=\"text\" name=\"email\"><br>\n",
        "            Password: <input type=\"password\" name=\"password\"><br>\n",
        "            <input type=\"submit\" value=\"Register\">\n",
        "        </form>\n",
        "        {% for error in errors %}\n",
        "            <p style=\"color:red;\">{{ error }}</p>\n",
        "        {% endfor %}\n",
        "    ''', errors=errors)\n",
        "\n",
        "if __name__ == \"__main__\":\n",
        "    app.run(debug=True)\n"
      ]
    },
    {
      "cell_type": "markdown",
      "metadata": {},
      "source": [
        "### 8. How do you manage sessions in Flask?\n",
        "\n",
        "Use the **`session`** object, which acts like a dictionary. Remember, the application must have a `app.secret_key` configured for sessions to work securely."
      ]
    },
    {
      "cell_type": "code",
      "execution_count": 13,
      "metadata": {},
      "outputs": [
        {
          "name": "stdout",
          "output_type": "stream",
          "text": [
            "Session data is stored in the signed cookie using 'session[key] = value'.\n"
          ]
        }
      ],
      "source": [
        "@app.route('/set_session')\n",
        "def set_session_data():\n",
        "    # Store a value in the user's session\n",
        "    session['user_id'] = 123\n",
        "    return 'Session variable set!'\n",
        "\n",
        "@app.route('/get_session')\n",
        "def get_session_data():\n",
        "    # Retrieve a value from the user's session\n",
        "    user_id = session.get('user_id', 'Guest')\n",
        "    return f'Current User ID: {user_id}'\n",
        "\n",
        "print(\"Session data is stored in the signed cookie using 'session[key] = value'.\")"
      ]
    },
    {
      "cell_type": "markdown",
      "metadata": {},
      "source": [
        "### 9. How do you redirect to a different route in Flask?\n",
        "\n",
        "Use the **`redirect()`** function combined with **`url_for()`**."
      ]
    },
    {
      "cell_type": "code",
      "execution_count": 12,
      "metadata": {},
      "outputs": [
        {
          "name": "stdout",
          "output_type": "stream",
          "text": [
            "Use 'redirect(url_for(view_function_name))' for clean redirection.\n"
          ]
        }
      ],
      "source": [
        "@app.route('/old_page')\n",
        "def old_page():\n",
        "    # Redirects the client to the 'new_page' view function (HTTP 302 Found)\n",
        "    return redirect(url_for('new_page'))\n",
        "\n",
        "@app.route('/new_destination')\n",
        "def new_page():\n",
        "    return 'You have been redirected successfully! 🎉'\n",
        "\n",
        "print(\"Use 'redirect(url_for(view_function_name))' for clean redirection.\")"
      ]
    },
    {
      "cell_type": "markdown",
      "metadata": {},
      "source": [
        "### 10. How do you handle errors in Flask (e.g., 404)?\n",
        "\n"
      ]
    },
    {
      "cell_type": "code",
      "execution_count": 3,
      "id": "166d3a8f",
      "metadata": {},
      "outputs": [],
      "source": [
        "from flask import Flask, render_template, jsonify\n",
        "\n",
        "app = Flask(__name__)\n",
        "\n",
        "# Handle 404 Not Found error\n",
        "@app.errorhandler(404)\n",
        "def not_found_error(error):\n",
        "    # You can return HTML, JSON, or a template\n",
        "    return jsonify({\n",
        "        \"error\": \"Page not found\",\n",
        "        \"status\": 404\n",
        "    }), 404"
      ]
    },
    {
      "cell_type": "markdown",
      "metadata": {},
      "source": [
        "### 11. How do you structure a Flask app using Blueprints?\n",
        "\n",
        "1.  Create a **`Blueprint`** instance in a separate file (e.g., `user_bp.py`).\n",
        "2.  Define routes using the blueprint object (`@user_bp.route(...)`).\n",
        "3.  **Register** the blueprint with the main `app` instance."
      ]
    },
    {
      "cell_type": "code",
      "execution_count": 11,
      "id": "4f4be571",
      "metadata": {},
      "outputs": [
        {
          "name": "stdout",
          "output_type": "stream",
          "text": [
            " * Serving Flask app '__main__'\n",
            " * Debug mode: on\n"
          ]
        },
        {
          "name": "stderr",
          "output_type": "stream",
          "text": [
            "WARNING: This is a development server. Do not use it in a production deployment. Use a production WSGI server instead.\n",
            " * Running on http://127.0.0.1:5000\n",
            "Press CTRL+C to quit\n",
            " * Restarting with watchdog (windowsapi)\n"
          ]
        },
        {
          "ename": "SystemExit",
          "evalue": "1",
          "output_type": "error",
          "traceback": [
            "An exception has occurred, use %tb to see the full traceback.\n",
            "\u001b[1;31mSystemExit\u001b[0m\u001b[1;31m:\u001b[0m 1\n"
          ]
        }
      ],
      "source": [
        "from flask import Flask, Blueprint\n",
        "\n",
        "app = Flask(__name__)\n",
        "\n",
        "bp = Blueprint(\"bp\", __name__)\n",
        "\n",
        "@bp.route(\"/hello\")\n",
        "def hello():\n",
        "    return \"Hello from blueprint!\"\n",
        "\n",
        "app.register_blueprint(bp, url_prefix=\"/bp\")\n",
        "\n",
        "if __name__ == \"__main__\":\n",
        "    app.run(debug=True)\n"
      ]
    },
    {
      "cell_type": "markdown",
      "metadata": {},
      "source": [
        "### 12. How do you define a custom Jinja filter in Flask?\n",
        "\n",
        "Custom filters are useful for transforming data in the template. They are defined using the **`@app.template_filter()`** decorator or by adding the function to `app.jinja_env.filters`."
      ]
    },
    {
      "cell_type": "code",
      "execution_count": 4,
      "metadata": {},
      "outputs": [
        {
          "name": "stdout",
          "output_type": "stream",
          "text": [
            "Custom filter 'initials' defined. Example usage: {{ 'alice in wonderland' | initials }}\n"
          ]
        }
      ],
      "source": [
        "@app.template_filter('initials')\n",
        "def get_initials(fullname):\n",
        "    \"\"\"Converts a full name string into initials (e.g., 'John Doe' -> 'J. D.').\"\"\"\n",
        "    return \". \".join(name[0].upper() for name in fullname.split()) + \".\"\n",
        "\n",
        "# Example usage in a template:\n",
        "JINJA_FILTER_USAGE = \"{{ 'alice in wonderland' | initials }}\" # Output: A. I. W.\n",
        "\n",
        "print(f\"Custom filter 'initials' defined. Example usage: {JINJA_FILTER_USAGE}\")"
      ]
    },
    {
      "cell_type": "markdown",
      "metadata": {},
      "source": [
        "### 13. How can you redirect with query parameters in Flask?\n",
        "\n",
        "Pass the query parameters as extra keyword arguments to **`url_for()`**. They are automatically appended to the generated URL."
      ]
    },
    {
      "cell_type": "code",
      "execution_count": 10,
      "metadata": {},
      "outputs": [
        {
          "name": "stdout",
          "output_type": "stream",
          "text": [
            " * Serving Flask app '__main__'\n",
            " * Debug mode: on\n"
          ]
        },
        {
          "name": "stderr",
          "output_type": "stream",
          "text": [
            "WARNING: This is a development server. Do not use it in a production deployment. Use a production WSGI server instead.\n",
            " * Running on http://127.0.0.1:5000\n",
            "Press CTRL+C to quit\n",
            " * Restarting with watchdog (windowsapi)\n"
          ]
        },
        {
          "ename": "SystemExit",
          "evalue": "1",
          "output_type": "error",
          "traceback": [
            "An exception has occurred, use %tb to see the full traceback.\n",
            "\u001b[1;31mSystemExit\u001b[0m\u001b[1;31m:\u001b[0m 1\n"
          ]
        }
      ],
      "source": [
        "from flask import Flask, redirect, url_for, request\n",
        "\n",
        "app = Flask(__name__)\n",
        "\n",
        "@app.route(\"/\")\n",
        "def home():\n",
        "    return \"Home Page\"\n",
        "\n",
        "@app.route(\"/redirect-example\")\n",
        "def redirect_example():\n",
        "    # Redirect to /home with query parameters ?name=Vishal&age=30\n",
        "    return redirect(url_for('home', name='Vishal', age=30))\n",
        "\n",
        "@app.route(\"/home\")\n",
        "def home_with_params():\n",
        "    name = request.args.get('name')\n",
        "    age = request.args.get('age')\n",
        "    return f\"Hello {name}, you are {age} years old.\"\n",
        "\n",
        "if __name__ == \"__main__\":\n",
        "    app.run(debug=True)\n"
      ]
    },
    {
      "cell_type": "markdown",
      "metadata": {},
      "source": [
        "### 14. How do you return JSON responses in Flask?\n",
        "\n",
        "Use the **`jsonify()`** function to automatically serialize Python data (dictionaries, lists) to JSON and set the correct HTTP headers."
      ]
    },
    {
      "cell_type": "code",
      "execution_count": 11,
      "metadata": {},
      "outputs": [
        {
          "name": "stdout",
          "output_type": "stream",
          "text": [
            "The 'jsonify()' function is essential for creating REST API responses.\n"
          ]
        }
      ],
      "source": [
        "@app.route('/api/data')\n",
        "def get_json_data():\n",
        "    data = {\n",
        "        'id': 5,\n",
        "        'status': 'active',\n",
        "        'payload': [1, 2, 3]\n",
        "    }\n",
        "    # Returns data as JSON with Content-Type: application/json\n",
        "    return jsonify(data), 200\n",
        "\n",
        "print(\"The 'jsonify()' function is essential for creating REST API responses.\")"
      ]
    },
    {
      "cell_type": "markdown",
      "metadata": {},
      "source": [
        "### 15. How do you capture URL parameters in Flask?\n",
        "\n",
        "URL parameters (or path variables) are captured by defining placeholders in the route rule using angle brackets (`<...>`). These placeholders are passed as keyword arguments to the view function."
      ]
    },
    {
      "cell_type": "code",
      "execution_count": 12,
      "metadata": {},
      "outputs": [
        {
          "name": "stdout",
          "output_type": "stream",
          "text": [
            "Path variables are captured using <type:name> syntax.\n"
          ]
        }
      ],
      "source": [
        "@app.route('/products/<int:product_id>')\n",
        "def get_product(product_id):\n",
        "    # 'product_id' is automatically captured as an integer and passed to the function\n",
        "    return f'Retrieving Product ID: {product_id} (Type: {type(product_id).__name__})'\n",
        "\n",
        "@app.route('/greet/<string:name>')\n",
        "def greet_name(name):\n",
        "    # 'name' is automatically captured as a string\n",
        "    return f'Hello, {name}!'\n",
        "\n",
        "print(\"Path variables are captured using <type:name> syntax.\")"
      ]
    },
    {
      "cell_type": "code",
      "execution_count": null,
      "id": "ce8d84e0",
      "metadata": {},
      "outputs": [],
      "source": []
    }
  ],
  "metadata": {
    "kernelspec": {
      "display_name": "base",
      "language": "python",
      "name": "python3"
    },
    "language_info": {
      "codemirror_mode": {
        "name": "ipython",
        "version": 3
      },
      "file_extension": ".py",
      "mimetype": "text/x-python",
      "name": "python",
      "nbconvert_exporter": "python",
      "pygments_lexer": "ipython3",
      "version": "3.13.5"
    }
  },
  "nbformat": 4,
  "nbformat_minor": 5
}
