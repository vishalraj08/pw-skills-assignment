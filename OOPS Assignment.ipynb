{
 "cells": [
  {
   "cell_type": "markdown",
   "metadata": {},
   "source": [
    "# Python Object-Oriented Programming (OOPs) Assignment"
   ]
  },
  {
   "cell_type": "markdown",
   "metadata": {},
   "source": [
    "## Part 1: Theoretical Questions"
   ]
  },
  {
   "cell_type": "markdown",
   "metadata": {},
   "source": [
    "### 1. What is Object-Oriented Programming (OOP)?"
   ]
  },
  {
   "cell_type": "markdown",
   "metadata": {},
   "source": [
    "Object-Oriented Programming (OOP) is a programming paradigm based on the concept of \"objects\", which can contain data in the form of fields (often known as attributes or properties) and code in the form of procedures (often known as methods).\n",
    "\n",
    "The main idea behind OOP is to treat a program as a collection of objects that interact with each other, rather than as a sequence of commands. This approach helps in creating modular, reusable, and manageable code. The core principles of OOP are:\n",
    "- **Encapsulation**\n",
    "- **Abstraction**\n",
    "- **Inheritance**\n",
    "- **Polymorphism**"
   ]
  },
  {
   "cell_type": "markdown",
   "metadata": {},
   "source": [
    "### 2. What is a class in OOP?"
   ]
  },
  {
   "cell_type": "markdown",
   "metadata": {},
   "source": [
    "A class is a blueprint or a template for creating objects. It defines a set of attributes (variables) and methods (functions) that the created objects will have. For example, you could have a `Car` class that defines attributes like `color` and `model`, and methods like `start_engine()` and `drive()`. Each individual car you create would be an object (or instance) of this `Car` class."
   ]
  },
  {
   "cell_type": "markdown",
   "metadata": {},
   "source": [
    "### 3. What is an object in OOP?"
   ]
  },
  {
   "cell_type": "markdown",
   "metadata": {},
   "source": [
    "An object is an instance of a class. When a class is defined, no memory is allocated until an object of that class is created. An object has a state (defined by its attributes) and behavior (defined by its methods). Following the previous example, a specific red Toyota Camry would be an object of the `Car` class. You can create many objects from a single class."
   ]
  },
  {
   "cell_type": "markdown",
   "metadata": {},
   "source": [
    "### 4. What is the difference between abstraction and encapsulation?"
   ]
  },
  {
   "cell_type": "markdown",
   "metadata": {},
   "source": [
    "While both are core OOP principles that help manage complexity, they do so in different ways.\n",
    "\n",
    "- **Abstraction**: This is about hiding complex implementation details and showing only the essential features of the object. It focuses on *what* an object does rather than *how* it does it. Think of a remote control for a TV. You know the `power` button turns the TV on/off, but you don't need to know the complex circuitry behind it. That's abstraction.\n",
    "\n",
    "- **Encapsulation**: This is about bundling the data (attributes) and the methods that operate on the data into a single unit, or a class. It also involves restricting direct access to some of an object's components, which is a key part of data hiding. For example, a `BankAccount` class would encapsulate the `balance` attribute and the `deposit()` and `withdraw()` methods. You can't change the balance directly; you have to use the methods, which protects the data from accidental or unauthorized changes."
   ]
  },
  {
   "cell_type": "markdown",
   "metadata": {},
   "source": [
    "### 5. What are dunder methods in Python?"
   ]
  },
  {
   "cell_type": "markdown",
   "metadata": {},
   "source": [
    "Dunder methods (short for **D**ouble **Under**score methods) are special methods in Python that are surrounded by double underscores, like `__init__()`, `__str__()`, and `__len__()`. They are also known as magic methods.\n",
    "\n",
    "These methods are not meant to be called directly by the programmer. Instead, they are invoked internally by Python in response to certain actions. For example, when you use the `+` operator on two objects, Python calls the `__add__()` dunder method. When you use `len(my_object)`, Python calls the `__len__()` method. They allow you to integrate your custom objects with Python's built-in functionalities."
   ]
  },
  {
   "cell_type": "markdown",
   "metadata": {},
   "source": [
    "### 6. Explain the concept of inheritance in OOP."
   ]
  },
  {
   "cell_type": "markdown",
   "metadata": {},
   "source": [
    "Inheritance is a mechanism where a new class (called a child or subclass) inherits attributes and methods from an existing class (called a parent or superclass). This promotes code reusability.\n",
    "\n",
    "The child class can use all the functionalities of the parent class and can also add its own new features or override the parent class's methods. For example, you could have a parent class `Animal` with a method `eat()`. A child class `Dog` could inherit from `Animal`, automatically getting the `eat()` method, and also define its own specific method like `bark()`."
   ]
  },
  {
   "cell_type": "markdown",
   "metadata": {},
   "source": [
    "### 7. What is polymorphism in OOP?"
   ]
  },
  {
   "cell_type": "markdown",
   "metadata": {},
   "source": [
    "Polymorphism, which means \"many forms,\" is the ability of an object to take on many forms. In OOP, it most commonly refers to the ability of different classes to be treated as instances of a common superclass. This allows a single function or method to operate on objects of different classes.\n",
    "\n",
    "A common example is having a `speak()` method in different animal classes. A `Dog` object's `speak()` method would print \"Bark!\", while a `Cat` object's `speak()` method would print \"Meow!\". You could have a function that takes any animal object and calls its `speak()` method, and it would behave correctly for each specific type of animal."
   ]
  },
  {
   "cell_type": "markdown",
   "metadata": {},
   "source": [
    "### 8. How is encapsulation achieved in Python?"
   ]
  },
  {
   "cell_type": "markdown",
   "metadata": {},
   "source": [
    "Encapsulation is achieved in Python through convention rather than strict enforcement. To indicate that an attribute or method is intended for internal use and should not be accessed directly from outside the class, a single underscore prefix is used (e.g., `_balance`). This is a hint to other programmers.\n",
    "\n",
    "For stronger protection, a double underscore prefix (e.g., `__balance`) is used. This triggers a mechanism called *name mangling*, where Python changes the name of the attribute to `_ClassName__attributeName`. This makes it much harder to access from outside the class, though it's still possible if you know the mangled name. This helps prevent accidental modification of internal data."
   ]
  },
  {
   "cell_type": "markdown",
   "metadata": {},
   "source": [
    "### 9. What is a constructor in Python?"
   ]
  },
  {
   "cell_type": "markdown",
   "metadata": {},
   "source": [
    "In Python, the constructor is a special dunder method named `__init__()`. This method is automatically called when a new object of a class is created.\n",
    "\n",
    "Its primary purpose is to initialize the attributes of the object. The `self` parameter in the `__init__` method refers to the newly created instance, allowing you to set its initial state. For example, in a `Person` class, the `__init__` method would typically take arguments like `name` and `age` to set up the new person object."
   ]
  },
  {
   "cell_type": "markdown",
   "metadata": {},
   "source": [
    "### 10. What are class and static methods in Python?"
   ]
  },
  {
   "cell_type": "markdown",
   "metadata": {},
   "source": [
    "- **Class Method**: A class method is bound to the class and not the object of the class. It is defined using the `@classmethod` decorator. It takes the class itself as its first argument, conventionally named `cls`. Class methods can be used to work with the class, for instance, to create factory methods that return instances of the class using a different logic than the constructor.\n",
    "\n",
    "- **Static Method**: A static method is not bound to either the class or its object. It is essentially a regular function that is namespaced within the class. It is defined using the `@staticmethod` decorator and does not take `self` or `cls` as its first argument. Static methods are used for utility functions that have some logical connection to the class but don't need to access any class or instance data."
   ]
  },
  {
   "cell_type": "markdown",
   "metadata": {},
   "source": [
    "### 11. What is method overloading in Python?"
   ]
  },
  {
   "cell_type": "markdown",
   "metadata": {},
   "source": [
    "Method overloading is a feature where a class can have multiple methods with the same name but with different numbers or types of parameters. Languages like Java or C++ support this directly.\n",
    "\n",
    "Python, however, does not support traditional method overloading. If you define two methods with the same name, the last one defined will override the previous one. To achieve similar functionality, Python developers often use a single method with default arguments or variable-length argument lists (`*args` and `**kwargs`). This allows one method to handle different numbers of arguments, simulating overloading."
   ]
  },
  {
   "cell_type": "markdown",
   "metadata": {},
   "source": [
    "### 12. What is method overriding in OOP?"
   ]
  },
  {
   "cell_type": "markdown",
   "metadata": {},
   "source": [
    "Method overriding is an OOP concept related to inheritance. It occurs when a child class provides a specific implementation for a method that is already defined in its parent class. The method in the child class has the same name, parameters, and return type as the one in the parent class.\n",
    "\n",
    "This allows the child class to give its own specialized behavior to an inherited method. For example, a parent `Shape` class might have a `draw()` method, but a child `Circle` class would override it to draw a circle, while a `Square` class would override it to draw a square."
   ]
  },
  {
   "cell_type": "markdown",
   "metadata": {},
   "source": [
    "### 13. What is a property decorator in Python?"
   ]
  },
  {
   "cell_type": "markdown",
   "metadata": {},
   "source": [
    "The `@property` decorator is a built-in Python feature that allows you to define methods that can be accessed like attributes. This is a way to create \"getters,\" \"setters,\" and \"deleters\" for a class attribute in a clean, \"Pythonic\" way.\n",
    "\n",
    "By using `@property`, you can make a method behave like a read-only attribute. You can then use `@attribute_name.setter` and `@attribute_name.deleter` decorators to define methods that are called when the attribute is assigned a value or deleted, respectively. This gives you control over attribute access without changing the syntax for the user of the class."
   ]
  },
  {
   "cell_type": "markdown",
   "metadata": {},
   "source": [
    "### 14. Why is polymorphism important in OOP?"
   ]
  },
  {
   "cell_type": "markdown",
   "metadata": {},
   "source": [
    "Polymorphism is crucial in OOP for several reasons:\n",
    "\n",
    "- **Flexibility and Extensibility**: It allows you to write code that works on a superclass type, but can correctly handle any of its subclass types. This makes your programs more flexible and easier to extend. You can add new subclasses that follow the common interface without having to change the code that uses the objects.\n",
    "- **Code Reusability**: It allows objects of different classes to be processed by the same code, reducing code duplication.\n",
    "- **Simpler Code**: It simplifies the code by allowing you to use a single, consistent interface for a family of classes, rather than writing conditional statements (like `if-elif-else`) to handle each specific type."
   ]
  },
  {
   "cell_type": "markdown",
   "metadata": {},
   "source": [
    "### 15. What is an abstract class in Python?"
   ]
  },
  {
   "cell_type": "markdown",
   "metadata": {},
   "source": [
    "An abstract class is a class that cannot be instantiated on its own and is meant to be subclassed. It serves as a blueprint for other classes. Abstract classes can contain abstract methods, which are declared but do not have an implementation.\n",
    "\n",
    "In Python, abstract classes are created using the `abc` (Abstract Base Classes) module. Any subclass that inherits from an abstract class must provide implementations for all of its abstract methods. This is a way to enforce a certain structure or interface that all child classes must follow."
   ]
  },
  {
   "cell_type": "markdown",
   "metadata": {},
   "source": [
    "### 16. What are the advantages of OOP?"
   ]
  },
  {
   "cell_type": "markdown",
   "metadata": {},
   "source": [
    "Object-Oriented Programming offers several key advantages:\n",
    "\n",
    "- **Modularity**: Encapsulation allows objects to be self-contained, making troubleshooting and collaborative development easier.\n",
    "- **Reusability**: Inheritance allows you to reuse code from existing classes, saving time and effort.\n",
    "- **Maintainability**: OOP code is often easier to understand, maintain, and modify because it models real-world objects.\n",
    "- **Security**: Encapsulation and abstraction hide complex details and protect internal data from unauthorized access.\n",
    "- **Flexibility**: Polymorphism allows a single function to handle different types, making the system more flexible and adaptable to change."
   ]
  },
  {
   "cell_type": "markdown",
   "metadata": {},
   "source": [
    "### 17. What is the difference between a class variable and an instance variable?"
   ]
  },
  {
   "cell_type": "markdown",
   "metadata": {},
   "source": [
    "- **Class Variable**: A class variable is declared inside the class but outside any method. It is shared by all objects (instances) of that class. If you change the value of a class variable, the change will be reflected across all instances. There is only one copy of the class variable that belongs to the class itself.\n",
    "\n",
    "- **Instance Variable**: An instance variable is defined inside a method, typically the `__init__` constructor, and is preceded by `self`. Each object of the class has its own separate copy of the instance variable. Changes to an instance variable in one object do not affect other objects of the same class."
   ]
  },
  {
   "cell_type": "markdown",
   "metadata": {},
   "source": [
    "### 18. What is multiple inheritance in Python?"
   ]
  },
  {
   "cell_type": "markdown",
   "metadata": {},
   "source": [
    "Multiple inheritance is a feature where a class can inherit attributes and methods from more than one parent class. This allows a child class to combine the features of several existing classes.\n",
    "\n",
    "For example, you could have a `Flying` class and a `Swimming` class. A `Duck` class could inherit from both `Flying` and `Swimming` to get the functionalities of both. When dealing with multiple inheritance, Python uses an algorithm called the Method Resolution Order (MRO) to determine which parent's method to call if there's a name conflict."
   ]
  },
  {
   "cell_type": "markdown",
   "metadata": {},
   "source": [
    "### 19. Explain the purpose of `__str__` and `__repr__` methods in Python."
   ]
  },
  {
   "cell_type": "markdown",
   "metadata": {},
   "source": [
    "Both `__str__` and `__repr__` are dunder methods used to create string representations of an object, but they have different intended audiences:\n",
    "\n",
    "- **`__str__()`**: Its purpose is to return a readable, user-friendly string representation of the object. This is what's called by the `print()` function and the `str()` built-in. The goal is to be informative to the end-user.\n",
    "\n",
    "- **`__repr__()`**: Its purpose is to return an unambiguous, developer-friendly string representation of the object. Ideally, this string should be a valid Python expression that could be used to recreate the object. This is what's called by the `repr()` built-in and is displayed in the interactive console when an object is inspected. If `__str__` is not defined, Python will fall back to using `__repr__`."
   ]
  },
  {
   "cell_type": "markdown",
   "metadata": {},
   "source": [
    "### 20. What is the significance of the `super()` function in Python?"
   ]
  },
  {
   "cell_type": "markdown",
   "metadata": {},
   "source": [
    "The `super()` function is used in inheritance to call methods of a parent or superclass. Its main significance is:\n",
    "\n",
    "- **Accessing Parent Methods**: It allows a subclass to call a method from its immediate parent class. This is particularly useful in the `__init__` method to ensure that the parent class's initialization logic is executed before the subclass adds its own.\n",
    "- **Supporting Multiple Inheritance**: In complex multiple inheritance scenarios, `super()` intelligently follows the Method Resolution Order (MRO) to ensure that the correct parent's method is called. This avoids issues like a parent method being called multiple times and makes the code more maintainable and robust."
   ]
  },
  {
   "cell_type": "markdown",
   "metadata": {},
   "source": [
    "### 21. What is the significance of the `__del__` method in Python?"
   ]
  },
  {
   "cell_type": "markdown",
   "metadata": {},
   "source": [
    "The `__del__` method is a finalizer, also sometimes called a destructor. It is called by the Python garbage collector just before an object is destroyed or garbage collected.\n",
    "\n",
    "Its main significance is to perform any necessary cleanup tasks, such as closing file handles, releasing network connections, or cleaning up other resources that the object was holding. However, it's important to be cautious when using `__del__`, as the exact timing of when it gets called is not guaranteed. For most resource management, using context managers (the `with` statement) is a much better and more reliable practice."
   ]
  },
  {
   "cell_type": "markdown",
   "metadata": {},
   "source": [
    "### 22. What is the difference between `@staticmethod` and `@classmethod` in Python?"
   ]
  },
  {
   "cell_type": "markdown",
   "metadata": {},
   "source": [
    "This is a common point of confusion, but the difference is in the first argument each method receives.\n",
    "\n",
    "- **`@classmethod`**: A class method receives the class itself as the first implicit argument, conventionally named `cls`. This means it can access and modify class-level state or call other class methods. It's often used for factory methods that create instances of the class in alternative ways.\n",
    "  ```python\n",
    "  class MyClass:\n",
    "      @classmethod\n",
    "      def create_from_string(cls, data_string):\n",
    "          # cls is MyClass here\n",
    "          return cls(...)\n",
    "  ```\n",
    "\n",
    "- **`@staticmethod`**: A static method does not receive any implicit first argument. It knows nothing about the class or the instance. It's essentially a regular function that is logically grouped with the class for organizational purposes. It cannot modify class state or instance state.\n",
    "  ```python\n",
    "  class MathHelper:\n",
    "      @staticmethod\n",
    "      def add(x, y):\n",
    "          return x + y\n",
    "  ```"
   ]
  },
  {
   "cell_type": "markdown",
   "metadata": {},
   "source": [
    "### 23. How does polymorphism work in Python with inheritance?"
   ]
  },
  {
   "cell_type": "markdown",
   "metadata": {},
   "source": [
    "Polymorphism in Python works seamlessly with inheritance primarily through **method overriding**.\n",
    "\n",
    "When you have a base class and several derived classes, you can define a method in the base class and then override it in each derived class. You can then write a function that takes an object of the base class type as an argument. When you pass an object of any derived class to this function and call the method, Python will automatically execute the correct version of the method—the one belonging to the specific derived class that was passed in. This is determined at runtime, which is why it's often called runtime polymorphism."
   ]
  },
  {
   "cell_type": "markdown",
   "metadata": {},
   "source": [
    "### 24. What is method chaining in Python OOP?"
   ]
  },
  {
   "cell_type": "markdown",
   "metadata": {},
   "source": [
    "Method chaining is a programming pattern where multiple methods are called on the same object in a single, consecutive line of code. To make this possible, each method in the chain (except possibly the last one) must return the instance itself (`self`).\n",
    "\n",
    "This creates a highly readable and fluent interface. For example, instead of writing:\n",
    "```python\n",
    "car = Car()\n",
    "car.set_make('Toyota')\n",
    "car.set_model('Camry')\n",
    "car.set_color('Red')\n",
    "```\n",
    "\n",
    "With method chaining, you could write:\n",
    "```python\n",
    "car = Car().set_make('Toyota').set_model('Camry').set_color('Red')\n",
    "```"
   ]
  },
  {
   "cell_type": "markdown",
   "metadata": {},
   "source": [
    "### 25. What is the purpose of the `__call__` method in Python?"
   ]
  },
  {
   "cell_type": "markdown",
   "metadata": {},
   "source": [
    "The `__call__` dunder method allows an instance of a class to be called as if it were a function.\n",
    "\n",
    "By implementing `__call__(self, *args, **kwargs)` in a class, you can create objects that behave like functions. This is useful for creating objects that maintain some internal state between calls. For example, you could create a counter object that increments its internal count every time it is \"called.\"\n",
    "\n",
    "```python\n",
    "class Counter:\n",
    "    def __init__(self):\n",
    "        self.count = 0\n",
    "    def __call__(self):\n",
    "        self.count += 1\n",
    "        print(f'Called {self.count} times')\n",
    "\n",
    "my_counter = Counter()\n",
    "my_counter()  # Outputs: Called 1 times\n",
    "my_counter()  # Outputs: Called 2 times\n",
    "```"
   ]
  },
  {
   "cell_type": "markdown",
   "metadata": {},
   "source": [
    "## Part 2: Practical Questions"
   ]
  },
  {
   "cell_type": "markdown",
   "metadata": {},
   "source": [
    "### 1. Create a parent class `Animal` with a method `speak()` that prints a generic message. Create a child class `Dog` that overrides the `speak()` method to print \"Bark!\"."
   ]
  },
  {
   "cell_type": "code",
   "execution_count": null,
   "metadata": {},
   "outputs": [],
   "source": [
    "# Parent class\n",
    "class Animal:\n",
    "    def speak(self):\n",
    "        print(\"An animal makes a sound.\")\n",
    "\n",
    "# Child class inheriting from Animal\n",
    "class Dog(Animal):\n",
    "    # Overriding the speak method\n",
    "    def speak(self):\n",
    "        print(\"Bark!\")\n",
    "\n",
    "# Demonstrate the classes\n",
    "generic_animal = Animal()\n",
    "my_dog = Dog()\n",
    "\n",
    "print(\"Generic Animal's speak method:\")\n",
    "generic_animal.speak()\n",
    "\n",
    "print(\"\\nDog's speak method (overridden):\")\n",
    "my_dog.speak()"
   ]
  },
  {
   "cell_type": "markdown",
   "metadata": {},
   "source": [
    "### 2. Write a program to create an abstract class `Shape` with a method `area()`. Derive classes `Circle` and `Rectangle` from it and implement the `area()` method in both."
   ]
  },
  {
   "cell_type": "code",
   "execution_count": null,
   "metadata": {},
   "outputs": [],
   "source": [
    "from abc import ABC, abstractmethod\n",
    "import math\n",
    "\n",
    "# Abstract base class\n",
    "class Shape(ABC):\n",
    "    @abstractmethod\n",
    "    def area(self):\n",
    "        \"\"\"Abstract method to calculate the area of the shape.\"\"\"\n",
    "        pass\n",
    "\n",
    "# Derived class Circle\n",
    "class Circle(Shape):\n",
    "    def __init__(self, radius):\n",
    "        self.radius = radius\n",
    "\n",
    "    def area(self):\n",
    "        return math.pi * (self.radius ** 2)\n",
    "\n",
    "# Derived class Rectangle\n",
    "class Rectangle(Shape):\n",
    "    def __init__(self, width, height):\n",
    "        self.width = width\n",
    "        self.height = height\n",
    "\n",
    "    def area(self):\n",
    "        return self.width * self.height\n",
    "\n",
    "# Demonstrate the classes\n",
    "my_circle = Circle(10)\n",
    "my_rectangle = Rectangle(5, 8)\n",
    "\n",
    "print(f\"The area of the circle with radius {my_circle.radius} is: {my_circle.area():.2f}\")\n",
    "print(f\"The area of the rectangle with dimensions {my_rectangle.width}x{my_rectangle.height} is: {my_rectangle.area()}\")"
   ]
  },
  {
   "cell_type": "markdown",
   "metadata": {},
   "source": [
    "### 3. Implement a multi-level inheritance scenario where a class `Vehicle` has an attribute `type`. Derive a class `Car` and further derive a class `ElectricCar` that adds a `battery` attribute."
   ]
  },
  {
   "cell_type": "code",
   "execution_count": null,
   "metadata": {},
   "outputs": [],
   "source": [
    "# Level 1: Base class\n",
    "class Vehicle:\n",
    "    def __init__(self, vehicle_type):\n",
    "        self.type = vehicle_type\n",
    "        print(f\"Vehicle of type '{self.type}' created.\")\n",
    "\n",
    "# Level 2: Derived from Vehicle\n",
    "class Car(Vehicle):\n",
    "    def __init__(self, make, model):\n",
    "        # Initialize the parent class\n",
    "        super().__init__('Car')\n",
    "        self.make = make\n",
    "        self.model = model\n",
    "        print(f\"Car: {self.make} {self.model}\")\n",
    "\n",
    "# Level 3: Derived from Car\n",
    "class ElectricCar(Car):\n",
    "    def __init__(self, make, model, battery_size):\n",
    "        # Initialize the parent class\n",
    "        super().__init__(make, model)\n",
    "        self.battery_size = battery_size\n",
    "        print(f\"Electric car with a {self.battery_size} kWh battery.\")\n",
    "\n",
    "# Demonstrate multi-level inheritance\n",
    "my_tesla = ElectricCar('Tesla', 'Model S', 100)\n",
    "print(\"\\n--- Attributes of my_tesla ---\")\n",
    "print(f\"Type: {my_tesla.type}\") # Inherited from Vehicle\n",
    "print(f\"Make: {my_tesla.make}\") # Inherited from Car\n",
    "print(f\"Model: {my_tesla.model}\") # Inherited from Car\n",
    "print(f\"Battery Size: {my_tesla.battery_size}\") # Defined in ElectricCar"
   ]
  },
  {
   "cell_type": "markdown",
   "metadata": {},
   "source": [
    "### 4. Demonstrate polymorphism by creating a base class `Bird` with a method `fly()`. Create two derived classes `Sparrow` and `Penguin` that override the `fly()` method."
   ]
  },
  {
   "cell_type": "code",
   "execution_count": null,
   "metadata": {},
   "outputs": [],
   "source": [
    "# Base class\n",
    "class Bird:\n",
    "    def fly(self):\n",
    "        print(\"This bird can fly.\")\n",
    "\n",
    "# Derived class Sparrow\n",
    "class Sparrow(Bird):\n",
    "    def fly(self):\n",
    "        print(\"The sparrow flies high in the sky.\")\n",
    "\n",
    "# Derived class Penguin\n",
    "class Penguin(Bird):\n",
    "    def fly(self):\n",
    "        print(\"The penguin cannot fly, but it can swim.\")\n",
    "\n",
    "# A function that demonstrates polymorphism\n",
    "def let_it_fly(bird):\n",
    "    print(f\"Testing a {bird.__class__.__name__}:\")\n",
    "    bird.fly()\n",
    "\n",
    "# Create objects\n",
    "sparrow = Sparrow()\n",
    "penguin = Penguin()\n",
    "\n",
    "# Call the polymorphic function with different objects\n",
    "let_it_fly(sparrow)\n",
    "print(\"-\" * 20)\n",
    "let_it_fly(penguin)"
   ]
  },
  {
   "cell_type": "markdown",
   "metadata": {},
   "source": [
    "### 5. Write a program to demonstrate encapsulation by creating a class `BankAccount` with private attributes `balance` and methods to deposit, withdraw, and check balance."
   ]
  },
  {
   "cell_type": "code",
   "execution_count": null,
   "metadata": {},
   "outputs": [],
   "source": [
    "class BankAccount:\n",
    "    def __init__(self, initial_balance=0):\n",
    "        # Private attribute using double underscore for name mangling\n",
    "        self.__balance = initial_balance\n",
    "        print(f\"Account created with an initial balance of ${self.__balance}\")\n",
    "\n",
    "    def deposit(self, amount):\n",
    "        if amount > 0:\n",
    "            self.__balance += amount\n",
    "            print(f\"Deposited ${amount}. New balance is ${self.__balance}.\")\n",
    "        else:\n",
    "            print(\"Deposit amount must be positive.\")\n",
    "\n",
    "    def withdraw(self, amount):\n",
    "        if amount > 0:\n",
    "            if self.__balance >= amount:\n",
    "                self.__balance -= amount\n",
    "                print(f\"Withdrew ${amount}. New balance is ${self.__balance}.\")\n",
    "            else:\n",
    "                print(\"Insufficient funds for this withdrawal.\")\n",
    "        else:\n",
    "            print(\"Withdrawal amount must be positive.\")\n",
    "\n",
    "    def check_balance(self):\n",
    "        print(f\"The current balance is ${self.__balance}.\")\n",
    "\n",
    "# Demonstrate encapsulation\n",
    "my_account = BankAccount(1000)\n",
    "my_account.check_balance()\n",
    "my_account.deposit(500)\n",
    "my_account.withdraw(200)\n",
    "my_account.withdraw(2000)\n",
    "\n",
    "# Trying to access the private attribute directly will cause an error\n",
    "try:\n",
    "    print(my_account.__balance)\n",
    "except AttributeError as e:\n",
    "    print(f\"\\nError trying to access private attribute directly: {e}\")"
   ]
  },
  {
   "cell_type": "markdown",
   "metadata": {},
   "source": [
    "### 6. Demonstrate runtime polymorphism using a method `play()` in a base class `Instrument`. Derive classes `Guitar` and `Piano` that implement their own version of `play()`."
   ]
  },
  {
   "cell_type": "code",
   "execution_count": null,
   "metadata": {},
   "outputs": [],
   "source": [
    "# Base class\n",
    "class Instrument:\n",
    "    def play(self):\n",
    "        print(\"An instrument is playing a sound.\")\n",
    "\n",
    "# Derived class Guitar\n",
    "class Guitar(Instrument):\n",
    "    def play(self):\n",
    "        print(\"Strumming the guitar strings.\")\n",
    "\n",
    "# Derived class Piano\n",
    "class Piano(Instrument):\n",
    "    def play(self):\n",
    "        print(\"Pressing the piano keys.\")\n",
    "\n",
    "# Function demonstrating runtime polymorphism\n",
    "def perform_concert(instruments):\n",
    "    print(\"\\nThe concert is starting!\")\n",
    "    for instrument in instruments:\n",
    "        instrument.play() # The correct play() method is called at runtime\n",
    "\n",
    "# Create objects\n",
    "acoustic_guitar = Guitar()\n",
    "grand_piano = Piano()\n",
    "\n",
    "# A list of different instrument objects\n",
    "band = [acoustic_guitar, grand_piano]\n",
    "\n",
    "# Call the function\n",
    "perform_concert(band)"
   ]
  },
  {
   "cell_type": "markdown",
   "metadata": {},
   "source": [
    "### 7. Create a class `MathOperations` with a class method `add_numbers()` to add two numbers and a static method `subtract_numbers()` to subtract two numbers."
   ]
  },
  {
   "cell_type": "code",
   "execution_count": null,
   "metadata": {},
   "outputs": [],
   "source": [
    "class MathOperations:\n",
    "    description = \"This class provides basic math operations.\"\n",
    "\n",
    "    @classmethod\n",
    "    def add_numbers(cls, num1, num2):\n",
    "        # This method can access class-level data, like 'description'\n",
    "        print(f\"(Class method using: {cls.description})\")\n",
    "        return num1 + num2\n",
    "\n",
    "    @staticmethod\n",
    "    def subtract_numbers(num1, num2):\n",
    "        # This method cannot access class or instance data\n",
    "        return num1 - num2\n",
    "\n",
    "# Demonstrate the methods\n",
    "\n",
    "# Call the class method\n",
    "sum_result = MathOperations.add_numbers(10, 5)\n",
    "print(f\"The sum is: {sum_result}\")\n",
    "\n",
    "# Call the static method\n",
    "diff_result = MathOperations.subtract_numbers(10, 5)\n",
    "print(f\"\\nThe difference is: {diff_result}\")"
   ]
  },
  {
   "cell_type": "markdown",
   "metadata": {},
   "source": [
    "### 8. Implement a class `Person` with a class method to count the total number of persons created."
   ]
  },
  {
   "cell_type": "code",
   "execution_count": null,
   "metadata": {},
   "outputs": [],
   "source": [
    "class Person:\n",
    "    # Class variable to keep track of the count\n",
    "    total_persons = 0\n",
    "\n",
    "    def __init__(self, name):\n",
    "        self.name = name\n",
    "        # Increment the class variable each time a new instance is created\n",
    "        Person.total_persons += 1\n",
    "        print(f\"{self.name} has been created.\")\n",
    "\n",
    "    @classmethod\n",
    "    def get_total_persons(cls):\n",
    "        # Class method to access the class variable\n",
    "        return cls.total_persons\n",
    "\n",
    "# Demonstrate the class\n",
    "print(f\"Initial number of persons: {Person.get_total_persons()}\")\n",
    "\n",
    "p1 = Person(\"Alice\")\n",
    "p2 = Person(\"Bob\")\n",
    "p3 = Person(\"Charlie\")\n",
    "\n",
    "print(f\"\\nTotal number of persons created: {Person.get_total_persons()}\")"
   ]
  },
  {
   "cell_type": "markdown",
   "metadata": {},
   "source": [
    "### 9. Write a class `Fraction` with attributes `numerator` and `denominator`. Override the `__str__` method to display the fraction as \"numerator/denominator\"."
   ]
  },
  {
   "cell_type": "code",
   "execution_count": null,
   "metadata": {},
   "outputs": [],
   "source": [
    "class Fraction:\n",
    "    def __init__(self, numerator, denominator):\n",
    "        if denominator == 0:\n",
    "            raise ValueError(\"Denominator cannot be zero.\")\n",
    "        self.numerator = numerator\n",
    "        self.denominator = denominator\n",
    "\n",
    "    def __str__(self):\n",
    "        # This method provides the user-friendly string representation\n",
    "        return f\"{self.numerator}/{self.denominator}\"\n",
    "\n",
    "# Demonstrate the __str__ method\n",
    "my_fraction = Fraction(3, 4)\n",
    "\n",
    "# When we print the object, the __str__ method is automatically called\n",
    "print(f\"The fraction is: {my_fraction}\")\n",
    "\n",
    "another_fraction = Fraction(1, 2)\n",
    "print(f\"Another fraction is: {another_fraction}\")"
   ]
  },
  {
   "cell_type": "markdown",
   "metadata": {},
   "source": [
    "### 10. Demonstrate operator overloading by creating a class `Vector` and overriding the `__add__` method to add two vectors."
   ]
  },
  {
   "cell_type": "code",
   "execution_count": null,
   "metadata": {},
   "outputs": [],
   "source": [
    "class Vector:\n",
    "    def __init__(self, x, y):\n",
    "        self.x = x\n",
    "        self.y = y\n",
    "\n",
    "    def __add__(self, other):\n",
    "        # Overloading the '+' operator\n",
    "        if isinstance(other, Vector):\n",
    "            # Add corresponding components\n",
    "            new_x = self.x + other.x\n",
    "            new_y = self.y + other.y\n",
    "            return Vector(new_x, new_y)\n",
    "        else:\n",
    "            # Handle cases where the other operand is not a Vector\n",
    "            return NotImplemented\n",
    "\n",
    "    def __str__(self):\n",
    "        # A user-friendly representation for printing\n",
    "        return f\"Vector({self.x}, {self.y})\"\n",
    "\n",
    "# Demonstrate operator overloading\n",
    "v1 = Vector(2, 4)\n",
    "v2 = Vector(3, 5)\n",
    "\n",
    "# The '+' operator now calls the __add__ method we defined\n",
    "v3 = v1 + v2\n",
    "\n",
    "print(f\"{v1} + {v2} = {v3}\")"
   ]
  },
  {
   "cell_type": "markdown",
   "metadata": {},
   "source": [
    "### 11. Create a class `Person` with attributes `name` and `age`. Add a method `greet()` that prints \"Hello, my name is {name} and I am {age} years old.\""
   ]
  },
  {
   "cell_type": "code",
   "execution_count": null,
   "metadata": {},
   "outputs": [],
   "source": [
    "class Person:\n",
    "    def __init__(self, name, age):\n",
    "        self.name = name\n",
    "        self.age = age\n",
    "\n",
    "    def greet(self):\n",
    "        print(f\"Hello, my name is {self.name} and I am {self.age} years old.\")\n",
    "\n",
    "# Demonstrate the class\n",
    "person1 = Person(\"John Doe\", 30)\n",
    "person1.greet()"
   ]
  },
  {
   "cell_type": "markdown",
   "metadata": {},
   "source": [
    "### 12. Implement a class `Student` with attributes `name` and `grades`. Create a method `average_grade()` to compute the average of the grades."
   ]
  },
  {
   "cell_type": "code",
   "execution_count": null,
   "metadata": {},
   "outputs": [],
   "source": [
    "class Student:\n",
    "    def __init__(self, name, grades):\n",
    "        self.name = name\n",
    "        self.grades = grades # Expects a list of numbers\n",
    "\n",
    "    def average_grade(self):\n",
    "        if not self.grades:\n",
    "            return 0 # Return 0 if there are no grades to avoid division by zero\n",
    "        return sum(self.grades) / len(self.grades)\n",
    "\n",
    "# Demonstrate the class\n",
    "student1 = Student(\"Jane Smith\", [88, 92, 95, 85])\n",
    "avg = student1.average_grade()\n",
    "\n",
    "print(f\"The average grade for {student1.name} is: {avg:.2f}\")"
   ]
  },
  {
   "cell_type": "markdown",
   "metadata": {},
   "source": [
    "### 13. Create a class `Rectangle` with methods `set_dimensions()` to set the dimensions and `area()` to calculate the area."
   ]
  },
  {
   "cell_type": "code",
   "execution_count": null,
   "metadata": {},
   "outputs": [],
   "source": [
    "class Rectangle:\n",
    "    def __init__(self):\n",
    "        self.width = 0\n",
    "        self.height = 0\n",
    "\n",
    "    def set_dimensions(self, width, height):\n",
    "        self.width = width\n",
    "        self.height = height\n",
    "        print(f\"Dimensions set to: Width = {self.width}, Height = {self.height}\")\n",
    "\n",
    "    def area(self):\n",
    "        return self.width * self.height\n",
    "\n",
    "# Demonstrate the class\n",
    "rect = Rectangle()\n",
    "rect.set_dimensions(10, 7)\n",
    "print(f\"The area of the rectangle is: {rect.area()}\")"
   ]
  },
  {
   "cell_type": "markdown",
   "metadata": {},
   "source": [
    "### 14. Create a class `Employee` with a method `calculate_salary()` that computes the salary based on hours worked and hourly rate. Create a derived class `Manager` that adds a bonus to the salary."
   ]
  },
  {
   "cell_type": "code",
   "execution_count": null,
   "metadata": {},
   "outputs": [],
   "source": [
    "# Base class\n",
    "class Employee:\n",
    "    def __init__(self, name, hours_worked, hourly_rate):\n",
    "        self.name = name\n",
    "        self.hours_worked = hours_worked\n",
    "        self.hourly_rate = hourly_rate\n",
    "\n",
    "    def calculate_salary(self):\n",
    "        return self.hours_worked * self.hourly_rate\n",
    "\n",
    "# Derived class\n",
    "class Manager(Employee):\n",
    "    def __init__(self, name, hours_worked, hourly_rate, bonus):\n",
    "        # Call the parent constructor\n",
    "        super().__init__(name, hours_worked, hourly_rate)\n",
    "        self.bonus = bonus\n",
    "\n",
    "    def calculate_salary(self):\n",
    "        # Get the base salary from the parent's method\n",
    "        base_salary = super().calculate_salary()\n",
    "        # Add the bonus\n",
    "        return base_salary + self.bonus\n",
    "\n",
    "# Demonstrate the classes\n",
    "emp = Employee(\"Sam\", 160, 20) # 160 hours, $20/hour\n",
    "mgr = Manager(\"Diane\", 160, 50, 1000) # 160 hours, $50/hour, $1000 bonus\n",
    "\n",
    "print(f\"Salary for employee {emp.name}: ${emp.calculate_salary()}\")\n",
    "print(f\"Salary for manager {mgr.name}: ${mgr.calculate_salary()}\")"
   ]
  },
  {
   "cell_type": "markdown",
   "metadata": {},
   "source": [
    "### 15. Create a class `Product` with attributes `name`, `price`, and `quantity`. Implement a method `total_price()` that calculates the total price of the product."
   ]
  },
  {
   "cell_type": "code",
   "execution_count": null,
   "metadata": {},
   "outputs": [],
   "source": [
    "class Product:\n",
    "    def __init__(self, name, price, quantity):\n",
    "        self.name = name\n",
    "        self.price = price\n",
    "        self.quantity = quantity\n",
    "\n",
    "    def total_price(self):\n",
    "        return self.price * self.quantity\n",
    "\n",
    "# Demonstrate the class\n",
    "product1 = Product(\"Laptop\", 1200, 3)\n",
    "total = product1.total_price()\n",
    "\n",
    "print(f\"Product: {product1.name}\")\n",
    "print(f\"Price per unit: ${product1.price}\")\n",
    "print(f\"Quantity: {product1.quantity}\")\n",
    "print(f\"Total Price: ${total}\")"
   ]
  },
  {
   "cell_type": "markdown",
   "metadata": {},
   "source": [
    "### 16. Create a class `Animal` with an abstract method `sound()`. Create two derived classes `Cow` and `Sheep` that implement the `sound()` method."
   ]
  },
  {
   "cell_type": "code",
   "execution_count": null,
   "metadata": {},
   "outputs": [],
   "source": [
    "from abc import ABC, abstractmethod\n",
    "\n",
    "# Abstract base class\n",
    "class Animal(ABC):\n",
    "    @abstractmethod\n",
    "    def sound(self):\n",
    "        pass\n",
    "\n",
    "# Derived class Cow\n",
    "class Cow(Animal):\n",
    "    def sound(self):\n",
    "        return \"Moo\"\n",
    "\n",
    "# Derived class Sheep\n",
    "class Sheep(Animal):\n",
    "    def sound(self):\n",
    "        return \"Baa\"\n",
    "\n",
    "# Demonstrate the classes\n",
    "cow = Cow()\n",
    "sheep = Sheep()\n",
    "\n",
    "print(f\"A cow says: {cow.sound()}\")\n",
    "print(f\"A sheep says: {sheep.sound()}\")"
   ]
  },
  {
   "cell_type": "markdown",
   "metadata": {},
   "source": [
    "### 17. Create a class `Book` with attributes `title`, `author`, and `year_published`. Add a method `get_book_info()` that returns a formatted string with the book's details."
   ]
  },
  {
   "cell_type": "code",
   "execution_count": null,
   "metadata": {},
   "outputs": [],
   "source": [
    "class Book:\n",
    "    def __init__(self, title, author, year_published):\n",
    "        self.title = title\n",
    "        self.author = author\n",
    "        self.year_published = year_published\n",
    "\n",
    "    def get_book_info(self):\n",
    "        return f\"Title: {self.title}, Author: {self.author}, Year: {self.year_published}\"\n",
    "\n",
    "# Demonstrate the class\n",
    "book1 = Book(\"The Hobbit\", \"J.R.R. Tolkien\", 1937)\n",
    "book_details = book1.get_book_info()\n",
    "\n",
    "print(book_details)"
   ]
  },
  {
   "cell_type": "markdown",
   "metadata": {},
   "source": [
    "### 18. Create a class `House` with attributes `address` and `price`. Create a derived class `Mansion` that adds an attribute `number_of_rooms`."
   ]
  },
  {
   "cell_type": "code",
   "execution_count": null,
   "metadata": {},
   "outputs": [],
   "source": [
    "# Base class\n",
    "class House:\n",
    "    def __init__(self, address, price):\n",
    "        self.address = address\n",
    "        self.price = price\n",
    "\n",
    "    def display_info(self):\n",
    "        print(f\"Address: {self.address}\")\n",
    "        print(f\"Price: ${self.price:,}\")\n",
    "\n",
    "# Derived class\n",
    "class Mansion(House):\n",
    "    def __init__(self, address, price, number_of_rooms):\n",
    "        super().__init__(address, price)\n",
    "        self.number_of_rooms = number_of_rooms\n",
    "\n",
    "    def display_info(self):\n",
    "        # Call the parent method first\n",
    "        super().display_info()\n",
    "        # Add the new information\n",
    "        print(f\"Number of Rooms: {self.number_of_rooms}\")\n",
    "\n",
    "# Demonstrate the classes\n",
    "my_mansion = Mansion(\"123 Luxury Lane\", 5000000, 25)\n",
    "my_mansion.display_info()"
   ]
  }
 ],
 "metadata": {
  "kernelspec": {
   "display_name": "Python 3",
   "language": "python",
   "name": "python3"
  },
  "language_info": {
   "codemirror_mode": {
    "name": "ipython",
    "version": 3
   },
   "file_extension": ".py",
   "mimetype": "text/x-python",
   "name": "python",
   "nbconvert_exporter": "python",
   "pygments_lexer": "ipython3",
   "version": "3.9.7"
  }
 },
 "nbformat": 4,
 "nbformat_minor": 2
}