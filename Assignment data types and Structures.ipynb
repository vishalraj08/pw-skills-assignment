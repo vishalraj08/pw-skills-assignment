{
  "cells": [
    {
      "cell_type": "markdown",
      "metadata": {},
      "source": [
        "# ASSIGNMENT Data Types and Structures\n",
        "\n"
      ]
    },
    {
      "cell_type": "markdown",
      "metadata": {},
      "source": [
        "## Data Types and Structures Questions"
      ]
    },
    {
      "cell_type": "markdown",
      "metadata": {},
      "source": [
        "### 1. What are data structures, and why are they important?\n",
        "\n",
        "Data structures are essentially ways of organizing, managing, and storing data in a computer so that we can access and modify it efficiently. Think of them as different types of containers, each designed for a specific purpose. \n",
        "\n",
        "They are incredibly important because the choice of data structure can significantly impact the performance of a program. Using the right one can make a program run much faster and use less memory, while the wrong one can lead to slow, inefficient code."
      ]
    },
    {
      "cell_type": "markdown",
      "metadata": {},
      "source": [
        "### 2. Explain the difference between mutable and immutable data types with examples.\n",
        "\n",
        "The key difference lies in whether an object can be changed after it's created.\n",
        "\n",
        "* **Mutable** objects can be modified. For example, if you have a list, you can add, remove, or change elements within it. Examples include lists, dictionaries, and sets.\n",
        "* **Immutable** objects cannot be changed. Once you create one, it stays that way forever. If you want to alter it, you have to create a new object. Examples are integers, strings, and tuples."
      ]
    },
    {
      "cell_type": "markdown",
      "metadata": {},
      "source": [
        "### 3. What are the main differences between lists and tuples in Python?\n",
        "\n",
        "Lists and tuples are both used to store collections of items, but they have a crucial difference:\n",
        "\n",
        "* **Mutability**: Lists are mutable, meaning you can change them (add, remove, modify elements).\n",
        "* **Immutability**: Tuples are immutable; you cannot change them after creation.\n",
        "* **Syntax**: Lists are defined with square brackets `[]`, while tuples use parentheses `()`.\n",
        "* **Performance**: Tuples are generally a bit faster and more memory-efficient than lists because they are immutable."
      ]
    },
    {
      "cell_type": "markdown",
      "metadata": {},
      "source": [
        "### 4. Describe how dictionaries store data.\n",
        "\n",
        "Dictionaries store data as **key-value pairs**. Instead of using a numerical index like a list, you use a unique key to access its corresponding value. It's like a real-world dictionary where you look up a word (the key) to find its definition (the value). Internally, they use a technique called hashing to make this lookup process extremely fast."
      ]
    },
    {
      "cell_type": "markdown",
      "metadata": {},
      "source": [
        "### 5. Why might you use a set instead of a list in Python?\n",
        "\n",
        "You'd typically choose a set over a list for two main reasons:\n",
        "\n",
        "1.  **Uniqueness**: Sets automatically enforce unique elements. If you add a duplicate item to a set, it will simply be ignored. This is great for tasks like finding the unique items from a list.\n",
        "2.  **Fast Membership Testing**: Checking if an item is present in a set (`item in my_set`) is significantly faster than checking for it in a list, especially for large collections of data."
      ]
    },
    {
      "cell_type": "markdown",
      "metadata": {},
      "source": [
        "### 6. What is a string in Python, and how is it different from a list?\n",
        "\n",
        "A string is a sequence of characters, used to store text data. While it feels a bit like a list of characters, the main difference is that **strings are immutable**. You can't change a character in a string directly, whereas you can change an element in a list."
      ]
    },
    {
      "cell_type": "markdown",
      "metadata": {},
      "source": [
        "### 7. How do tuples ensure data integrity in Python?\n",
        "\n",
        "Tuples ensure data integrity because they are **immutable**. Once a tuple is created, its elements cannot be changed, added, or removed. This makes them a safe choice for storing data that you want to protect from accidental modification, such as configuration settings or database records."
      ]
    },
    {
      "cell_type": "markdown",
      "metadata": {},
      "source": [
        "### 8. What is a hash table, and how does it relate to dictionaries in Python?\n",
        "\n",
        "A hash table is a data structure that allows for very fast data lookups. It works by using a special function (a hash function) to compute an index where an element should be stored or found.\n",
        "\n",
        "This is directly related to Python dictionaries because dictionaries are implemented using hash tables. When you use a key to access a value, Python hashes the key to quickly locate the value, which is why dictionary lookups are so efficient."
      ]
    },
    {
      "cell_type": "markdown",
      "metadata": {},
      "source": [
        "### 9. Can lists contain different data types in Python?\n",
        "\n",
        "Yes, absolutely! Python lists are very flexible and can hold elements of various data types all in the same list. For example, a single list could contain integers, strings, and even other lists."
      ]
    },
    {
      "cell_type": "markdown",
      "metadata": {},
      "source": [
        "### 10. Explain why strings are immutable in Python.\n",
        "\n",
        "Strings are immutable in Python primarily for reasons of efficiency and safety.\n",
        "\n",
        "* **Efficiency**: Since strings can't be changed, Python can reuse the same string object in multiple places in memory. \n",
        "* **Safety**: Immutability is crucial for dictionary keys. Since dictionaries rely on the hash of a key, and that hash must not change, using immutable objects like strings as keys ensures the dictionary works reliably."
      ]
    },
    {
      "cell_type": "markdown",
      "metadata": {},
      "source": [
        "### 11. What advantages do dictionaries offer over lists for certain tasks?\n",
        "\n",
        "The main advantage of dictionaries is their **fast, key-based lookup**. If you need to find data based on a specific identifier (like finding a person's age by their name), a dictionary is much more efficient. In a list, you would have to search through the elements one by one, which is much slower for large datasets."
      ]
    },
    {
      "cell_type": "markdown",
      "metadata": {},
      "source": [
        "### 12. Describe a scenario where using a tuple would be preferable over a list.\n",
        "\n",
        "A great scenario is when you want to store a collection of items that shouldn't change, like the coordinates of a point `(x, y)`. Using a tuple `(10, 20)` ensures that the x and y values can't be accidentally modified. It signals that the data is a fixed, coherent unit. Another common use is for dictionary keys, since keys must be immutable."
      ]
    },
    {
      "cell_type": "markdown",
      "metadata": {},
      "source": [
        "### 13. How do sets handle duplicate values in Python?\n",
        "\n",
        "Sets simply don't allow duplicate values. If you try to add an element that is already in the set, the set remains unchanged. This is a core feature and makes them perfect for tasks that require only unique elements."
      ]
    },
    {
      "cell_type": "markdown",
      "metadata": {},
      "source": [
        "### 14. How does the \"in\" keyword work differently for lists and dictionaries?\n",
        "\n",
        "* For a **list**, the `in` keyword checks if a specific *value* exists within the list's elements.\n",
        "* For a **dictionary**, the `in` keyword checks if a specific value exists among the dictionary's *keys*, not its values."
      ]
    },
    {
      "cell_type": "markdown",
      "metadata": {},
      "source": [
        "### 15. Can you modify the elements of a tuple? Explain why or why not.\n",
        "\n",
        "No, you cannot modify the elements of a tuple. This is because tuples are **immutable**. Once a tuple is created, its contents are fixed and cannot be altered. If you need a collection that can be changed, you should use a list."
      ]
    },
    {
      "cell_type": "markdown",
      "metadata": {},
      "source": [
        "### 16. What is a nested dictionary, and give an example of its use case?\n",
        "\n",
        "A nested dictionary is a dictionary that contains other dictionaries as values. It's useful for representing more complex, hierarchical data.\n",
        "\n",
        "**Use Case**: Storing information about multiple employees. The outer dictionary keys could be employee IDs, and the values could be dictionaries containing details for each employee, like their name, role, and department."
      ]
    },
    {
      "cell_type": "markdown",
      "metadata": {},
      "source": [
        "### 17. Describe the time complexity of accessing elements in a dictionary.\n",
        "\n",
        "The time complexity of accessing elements in a dictionary is, on average, **O(1)**, which means it takes a constant amount of time, regardless of the dictionary's size. This is because of the efficient hash table implementation. In a rare worst-case scenario (due to hash collisions), it could be O(n)."
      ]
    },
    {
      "cell_type": "markdown",
      "metadata": {},
      "source": [
        "### 18. In what situations are lists preferred over dictionaries?\n",
        "\n",
        "Lists are preferred when:\n",
        "\n",
        "* You have an ordered collection of items.\n",
        "* You need to access elements by their numerical position (index).\n",
        "* You don't need to associate a unique key with each value.\n",
        "* You want to allow duplicate values."
      ]
    },
    {
      "cell_type": "markdown",
      "metadata": {},
      "source": [
        "### 19. Why are dictionaries considered unordered, and how does that affect data retrieval?\n",
        "\n",
        "Historically, dictionaries were considered unordered because their main purpose was to map keys to values, not to maintain an insertion sequence. The internal hash table didn't preserve the order in which items were added. \n",
        "\n",
        "However, it's important to note that **since Python 3.7**, dictionaries are guaranteed to preserve insertion order. But the fundamental way you retrieve data is still by key, not by position or index, which is unaffected by this ordering."
      ]
    },
    {
      "cell_type": "markdown",
      "metadata": {},
      "source": [
        "### 20. Explain the difference between a list and a dictionary in terms of data retrieval.\n",
        "\n",
        "* **List**: You retrieve data using a numerical, zero-based **index**. For example, `my_list[0]` gets the first element.\n",
        "* **Dictionary**: You retrieve data using a unique **key**. For example, `my_dict['name']` gets the value associated with the key 'name'."
      ]
    },
    {
      "cell_type": "markdown",
      "metadata": {},
      "source": [
        "## Practical Questions"
      ]
    },
    {
      "cell_type": "markdown",
      "metadata": {},
      "source": [
        "### 1. Write a code to create a string with your name and print it"
      ]
    },
    {
      "cell_type": "code",
      "execution_count": null,
      "metadata": {},
      "outputs": [],
      "source": [
        "my_name = \"Vishal\"\n",
        "print(my_name)"
      ]
    },
    {
      "cell_type": "markdown",
      "metadata": {},
      "source": [
        "### 2. Write a code to find the length of the string \"Hello World\"."
      ]
    },
    {
      "cell_type": "code",
      "execution_count": null,
      "metadata": {},
      "outputs": [],
      "source": [
        "my_string = \"Hello World\"\n",
        "print(len(my_string))"
      ]
    },
    {
      "cell_type": "markdown",
      "metadata": {},
      "source": [
        "### 3. Write a code to slice the first 3 characters from the string \"Python Programming\"."
      ]
    },
    {
      "cell_type": "code",
      "execution_count": null,
      "metadata": {},
      "outputs": [],
      "source": [
        "my_string = \"Python Programming\"\n",
        "sliced_string = my_string[:3]\n",
        "print(sliced_string)"
      ]
    },
    {
      "cell_type": "markdown",
      "metadata": {},
      "source": [
        "### 4. Write a code to convert the string \"hello\" to uppercase."
      ]
    },
    {
      "cell_type": "code",
      "execution_count": null,
      "metadata": {},
      "outputs": [],
      "source": [
        "my_string = \"hello\"\n",
        "uppercase_string = my_string.upper()\n",
        "print(uppercase_string)"
      ]
    },
    {
      "cell_type": "markdown",
      "metadata": {},
      "source": [
        "### 5. Write a code to replace the word \"apple\" with \"orange\" in the string \"I like apple\"."
      ]
    },
    {
      "cell_type": "code",
      "execution_count": null,
      "metadata": {},
      "outputs": [],
      "source": [
        "my_string = \"I like apple\"\n",
        "new_string = my_string.replace(\"apple\", \"orange\")\n",
        "print(new_string)"
      ]
    },
    {
      "cell_type": "markdown",
      "metadata": {},
      "source": [
        "### 6. Write a code to create a list with numbers 1 to 5 and print it."
      ]
    },
    {
      "cell_type": "code",
      "execution_count": null,
      "metadata": {},
      "outputs": [],
      "source": [
        "my_list = [1, 2, 3, 4, 5]\n",
        "print(my_list)"
      ]
    },
    {
      "cell_type": "markdown",
      "metadata": {},
      "source": [
        "### 7. Write a code to append the number 10 to the list [1, 2, 3, 4]."
      ]
    },
    {
      "cell_type": "code",
      "execution_count": null,
      "metadata": {},
      "outputs": [],
      "source": [
        "my_list = [1, 2, 3, 4]\n",
        "my_list.append(10)\n",
        "print(my_list)"
      ]
    },
    {
      "cell_type": "markdown",
      "metadata": {},
      "source": [
        "### 8. Write a code to remove the number 3 from the list [1, 2, 3, 4, 5]."
      ]
    },
    {
      "cell_type": "code",
      "execution_count": null,
      "metadata": {},
      "outputs": [],
      "source": [
        "my_list = [1, 2, 3, 4, 5]\n",
        "my_list.remove(3)\n",
        "print(my_list)"
      ]
    },
    {
      "cell_type": "markdown",
      "metadata": {},
      "source": [
        "### 9. Write a code to access the second element in the list ['a', 'b', 'c', 'd']."
      ]
    },
    {
      "cell_type": "code",
      "execution_count": null,
      "metadata": {},
      "outputs": [],
      "source": [
        "my_list = ['a', 'b', 'c', 'd']\n",
        "second_element = my_list[1]\n",
        "print(second_element)"
      ]
    },
    {
      "cell_type": "markdown",
      "metadata": {},
      "source": [
        "### 10. Write a code to reverse the list [10, 20, 30, 40, 50]."
      ]
    },
    {
      "cell_type": "code",
      "execution_count": null,
      "metadata": {},
      "outputs": [],
      "source": [
        "my_list = [10, 20, 30, 40, 50]\n",
        "my_list.reverse()\n",
        "print(my_list)"
      ]
    },
    {
      "cell_type": "markdown",
      "metadata": {},
      "source": [
        "### 11. Write a code to create a tuple with the elements 100, 200, 300 and print it."
      ]
    },
    {
      "cell_type": "code",
      "execution_count": null,
      "metadata": {},
      "outputs": [],
      "source": [
        "my_tuple = (100, 200, 300)\n",
        "print(my_tuple)"
      ]
    },
    {
      "cell_type": "markdown",
      "metadata": {},
      "source": [
        "### 12. Write a code to access the second-to-last element of the tuple ('red', 'green', 'blue', 'yellow')."
      ]
    },
    {
      "cell_type": "code",
      "execution_count": null,
      "metadata": {},
      "outputs": [],
      "source": [
        "my_tuple = ('red', 'green', 'blue', 'yellow')\n",
        "element = my_tuple[-2]\n",
        "print(element)"
      ]
    },
    {
      "cell_type": "markdown",
      "metadata": {},
      "source": [
        "### 13. Write a code to find the minimum number in the tuple (10, 20, 5, 15)."
      ]
    },
    {
      "cell_type": "code",
      "execution_count": null,
      "metadata": {},
      "outputs": [],
      "source": [
        "my_tuple = (10, 20, 5, 15)\n",
        "min_value = min(my_tuple)\n",
        "print(min_value)"
      ]
    },
    {
      "cell_type": "markdown",
      "metadata": {},
      "source": [
        "### 14. Write a code to find the index of the element \"cat\" in the tuple ('dog', 'cat', 'rabbit')."
      ]
    },
    {
      "cell_type": "code",
      "execution_count": null,
      "metadata": {},
      "outputs": [],
      "source": [
        "my_tuple = ('dog', 'cat', 'rabbit')\n",
        "index = my_tuple.index('cat')\n",
        "print(index)"
      ]
    },
    {
      "cell_type": "markdown",
      "metadata": {},
      "source": [
        "### 15. Write a code to create a tuple containing three different fruits and check if \"kiwi\" is in it."
      ]
    },
    {
      "cell_type": "code",
      "execution_count": null,
      "metadata": {},
      "outputs": [],
      "source": [
        "fruits = ('apple', 'banana', 'orange')\n",
        "is_present = 'kiwi' in fruits\n",
        "print(f\"Is 'kiwi' in the tuple? {is_present}\")"
      ]
    },
    {
      "cell_type": "markdown",
      "metadata": {},
      "source": [
        "### 16. Write a code to create a set with the elements 'a', 'b', 'c' and print it."
      ]
    },
    {
      "cell_type": "code",
      "execution_count": null,
      "metadata": {},
      "outputs": [],
      "source": [
        "my_set = {'a', 'b', 'c'}\n",
        "print(my_set)"
      ]
    },
    {
      "cell_type": "markdown",
      "metadata": {},
      "source": [
        "### 17. Write a code to clear all elements from the set {1, 2, 3, 4, 5}."
      ]
    },
    {
      "cell_type": "code",
      "execution_count": null,
      "metadata": {},
      "outputs": [],
      "source": [
        "my_set = {1, 2, 3, 4, 5}\n",
        "my_set.clear()\n",
        "print(my_set)"
      ]
    },
    {
      "cell_type": "markdown",
      "metadata": {},
      "source": [
        "### 18. Write a code to remove the element 4 from the set {1, 2, 3, 4}."
      ]
    },
    {
      "cell_type": "code",
      "execution_count": null,
      "metadata": {},
      "outputs": [],
      "source": [
        "my_set = {1, 2, 3, 4}\n",
        "my_set.remove(4)\n",
        "print(my_set)"
      ]
    },
    {
      "cell_type": "markdown",
      "metadata": {},
      "source": [
        "### 19. Write a code to find the union of two sets {1, 2, 3} and {3, 4, 5}."
      ]
    },
    {
      "cell_type": "code",
      "execution_count": null,
      "metadata": {},
      "outputs": [],
      "source": [
        "set1 = {1, 2, 3}\n",
        "set2 = {3, 4, 5}\n",
        "union_set = set1.union(set2)\n",
        "print(union_set)"
      ]
    },
    {
      "cell_type": "markdown",
      "metadata": {},
      "source": [
        "### 20. Write a code to find the intersection of two sets {1, 2, 3} and {2, 3, 4}."
      ]
    },
    {
      "cell_type": "code",
      "execution_count": null,
      "metadata": {},
      "outputs": [],
      "source": [
        "set1 = {1, 2, 3}\n",
        "set2 = {2, 3, 4}\n",
        "intersection_set = set1.intersection(set2)\n",
        "print(intersection_set)"
      ]
    },
    {
      "cell_type": "markdown",
      "metadata": {},
      "source": [
        "### 21. Write a code to create a dictionary with the keys \"name\", \"age\", and \"city\", and print it."
      ]
    },
    {
      "cell_type": "code",
      "execution_count": null,
      "metadata": {},
      "outputs": [],
      "source": [
        "my_dict = {\n",
        "    \"name\": \"Alice\",\n",
        "    \"age\": 30,\n",
        "    \"city\": \"Wonderland\"\n",
        "}\n",
        "print(my_dict)"
      ]
    },
    {
      "cell_type": "markdown",
      "metadata": {},
      "source": [
        "### 22. Write a code to add a new key-value pair \"country\": \"USA\" to the dictionary {'name': 'John', 'age': 25}."
      ]
    },
    {
      "cell_type": "code",
      "execution_count": null,
      "metadata": {},
      "outputs": [],
      "source": [
        "my_dict = {'name': 'John', 'age': 25}\n",
        "my_dict['country'] = 'USA'\n",
        "print(my_dict)"
      ]
    },
    {
      "cell_type": "markdown",
      "metadata": {},
      "source": [
        "### 23. Write a code to access the value associated with the key \"name\" in the dictionary {'name': 'Alice', 'age': 30}."
      ]
    },
    {
      "cell_type": "code",
      "execution_count": null,
      "metadata": {},
      "outputs": [],
      "source": [
        "my_dict = {'name': 'Alice', 'age': 30}\n",
        "name = my_dict['name']\n",
        "print(name)"
      ]
    },
    {
      "cell_type": "markdown",
      "metadata": {},
      "source": [
        "### 24. Write a code to remove the key \"age\" from the dictionary {'name': 'Bob', 'age': 22, 'city': 'New York'}."
      ]
    },
    {
      "cell_type": "code",
      "execution_count": null,
      "metadata": {},
      "outputs": [],
      "source": [
        "my_dict = {'name': 'Bob', 'age': 22, 'city': 'New York'}\n",
        "del my_dict['age']\n",
        "print(my_dict)"
      ]
    },
    {
      "cell_type": "markdown",
      "metadata": {},
      "source": [
        "### 25. Write a code to check if the key \"city\" exists in the dictionary {'name': 'Alice', 'city': 'Paris'}."
      ]
    },
    {
      "cell_type": "code",
      "execution_count": null,
      "metadata": {},
      "outputs": [],
      "source": [
        "my_dict = {'name': 'Alice', 'city': 'Paris'}\n",
        "key_exists = 'city' in my_dict\n",
        "print(f\"Does the key 'city' exist? {key_exists}\")"
      ]
    },
    {
      "cell_type": "markdown",
      "metadata": {},
      "source": [
        "### 26. Write a code to create a list, a tuple, and a dictionary, and print them all."
      ]
    },
    {
      "cell_type": "code",
      "execution_count": null,
      "metadata": {},
      "outputs": [],
      "source": [
        "my_list = [1, 'two', 3.0]\n",
        "my_tuple = (4, 'five', 6.0)\n",
        "my_dict = {'key1': 'value1', 'key2': 2}\n",
        "\n",
        "print(f\"My List: {my_list}\")\n",
        "print(f\"My Tuple: {my_tuple}\")\n",
        "print(f\"My Dictionary: {my_dict}\")"
      ]
    },
    {
      "cell_type": "markdown",
      "metadata": {},
      "source": [
        "### 27. Write a code to create a list of 5 random numbers between 1 and 100, sort it in ascending order, and print the result."
      ]
    },
    {
      "cell_type": "code",
      "execution_count": 7,
      "metadata": {},
      "outputs": [
        {
          "name": "stdout",
          "output_type": "stream",
          "text": [
            "Random List: [96, 67, 11, 74, 81]\n",
            "Sorted List: [11, 67, 74, 81, 96]\n"
          ]
        }
      ],
      "source": [
        "import random\n",
        "\n",
        "# Create a list of 5 random numbers\n",
        "random_numbers = [random.randint(1, 100) for _ in range(5)]\n",
        "print(f\"Random List: {random_numbers}\")\n",
        "\n",
        "# Sort the list\n",
        "random_numbers.sort()\n",
        "print(f\"Sorted List: {random_numbers}\")"
      ]
    },
    {
      "cell_type": "markdown",
      "metadata": {},
      "source": [
        "### 28. Write a code to create a list with strings and print the element at the third index."
      ]
    },
    {
      "cell_type": "code",
      "execution_count": null,
      "metadata": {},
      "outputs": [],
      "source": [
        "str_list = ['alpha', 'beta', 'gamma', 'delta']\n",
        "element = str_list[3]\n",
        "print(element)"
      ]
    },
    {
      "cell_type": "markdown",
      "metadata": {},
      "source": [
        "### 29. Write a code to combine two dictionaries into one and print the result."
      ]
    },
    {
      "cell_type": "code",
      "execution_count": 2,
      "metadata": {},
      "outputs": [
        {
          "name": "stdout",
          "output_type": "stream",
          "text": [
            "{'a': 1, 'b': 2, 'c': 3, 'd': 4}\n"
          ]
        }
      ],
      "source": [
        "dict1 = {'a': 1, 'b': 2}\n",
        "dict2 = {'c': 3, 'd': 4}\n",
        "\n",
        "\n",
        "combined_dict = dict1 | dict2\n",
        "print(combined_dict)\n"
      ]
    },
    {
      "cell_type": "markdown",
      "metadata": {},
      "source": [
        "### 30. Write a code to convert a list of strings into a set."
      ]
    },
    {
      "cell_type": "code",
      "execution_count": null,
      "metadata": {},
      "outputs": [],
      "source": [
        "str_list = ['apple', 'banana', 'apple', 'orange', 'banana']\n",
        "str_set = set(str_list)\n",
        "\n",
        "print(f\"Original List: {str_list}\")\n",
        "print(f\"Converted Set: {str_set}\")"
      ]
    }
  ],
  "metadata": {
    "kernelspec": {
      "display_name": "Python 3",
      "language": "python",
      "name": "python3"
    },
    "language_info": {
      "codemirror_mode": {
        "name": "ipython",
        "version": 3
      },
      "file_extension": ".py",
      "mimetype": "text/x-python",
      "name": "python",
      "nbconvert_exporter": "python",
      "pygments_lexer": "ipython3",
      "version": "3.13.7"
    }
  },
  "nbformat": 4,
  "nbformat_minor": 2
}
